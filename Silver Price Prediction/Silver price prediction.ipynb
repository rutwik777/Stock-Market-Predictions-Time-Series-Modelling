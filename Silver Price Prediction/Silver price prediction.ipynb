{
 "cells": [
  {
   "cell_type": "markdown",
   "id": "48839178",
   "metadata": {},
   "source": [
    "### Predicting the Movement of Sliver Stock Price"
   ]
  },
  {
   "cell_type": "code",
   "execution_count": 1,
   "id": "396aef6c",
   "metadata": {},
   "outputs": [],
   "source": [
    "import pandas as pd\n",
    "import nltk\n",
    "import seaborn as sns\n",
    "import numpy as np\n",
    "import matplotlib.pyplot as plt"
   ]
  },
  {
   "cell_type": "code",
   "execution_count": 2,
   "id": "e4e0ff94",
   "metadata": {},
   "outputs": [],
   "source": [
    "df = pd.read_csv('Silver_HistoricalData_1669917710205.csv')"
   ]
  },
  {
   "cell_type": "code",
   "execution_count": 3,
   "id": "ee4c098f",
   "metadata": {},
   "outputs": [
    {
     "data": {
      "text/html": [
       "<div>\n",
       "<style scoped>\n",
       "    .dataframe tbody tr th:only-of-type {\n",
       "        vertical-align: middle;\n",
       "    }\n",
       "\n",
       "    .dataframe tbody tr th {\n",
       "        vertical-align: top;\n",
       "    }\n",
       "\n",
       "    .dataframe thead th {\n",
       "        text-align: right;\n",
       "    }\n",
       "</style>\n",
       "<table border=\"1\" class=\"dataframe\">\n",
       "  <thead>\n",
       "    <tr style=\"text-align: right;\">\n",
       "      <th></th>\n",
       "      <th>Date</th>\n",
       "      <th>Close/Last</th>\n",
       "      <th>Volume</th>\n",
       "      <th>Open</th>\n",
       "      <th>High</th>\n",
       "      <th>Low</th>\n",
       "    </tr>\n",
       "  </thead>\n",
       "  <tbody>\n",
       "    <tr>\n",
       "      <th>0</th>\n",
       "      <td>11/30/2022</td>\n",
       "      <td>21.781</td>\n",
       "      <td>62564.0</td>\n",
       "      <td>21.415</td>\n",
       "      <td>22.410</td>\n",
       "      <td>21.355</td>\n",
       "    </tr>\n",
       "    <tr>\n",
       "      <th>1</th>\n",
       "      <td>11/29/2022</td>\n",
       "      <td>21.436</td>\n",
       "      <td>45726.0</td>\n",
       "      <td>21.130</td>\n",
       "      <td>21.635</td>\n",
       "      <td>21.060</td>\n",
       "    </tr>\n",
       "    <tr>\n",
       "      <th>2</th>\n",
       "      <td>11/28/2022</td>\n",
       "      <td>21.125</td>\n",
       "      <td>57501.0</td>\n",
       "      <td>21.640</td>\n",
       "      <td>21.815</td>\n",
       "      <td>21.045</td>\n",
       "    </tr>\n",
       "    <tr>\n",
       "      <th>3</th>\n",
       "      <td>11/25/2022</td>\n",
       "      <td>21.609</td>\n",
       "      <td>30139.0</td>\n",
       "      <td>21.785</td>\n",
       "      <td>21.880</td>\n",
       "      <td>21.355</td>\n",
       "    </tr>\n",
       "    <tr>\n",
       "      <th>4</th>\n",
       "      <td>11/23/2022</td>\n",
       "      <td>21.526</td>\n",
       "      <td>20315.0</td>\n",
       "      <td>21.260</td>\n",
       "      <td>21.780</td>\n",
       "      <td>21.095</td>\n",
       "    </tr>\n",
       "  </tbody>\n",
       "</table>\n",
       "</div>"
      ],
      "text/plain": [
       "         Date  Close/Last   Volume    Open    High     Low\n",
       "0  11/30/2022      21.781  62564.0  21.415  22.410  21.355\n",
       "1  11/29/2022      21.436  45726.0  21.130  21.635  21.060\n",
       "2  11/28/2022      21.125  57501.0  21.640  21.815  21.045\n",
       "3  11/25/2022      21.609  30139.0  21.785  21.880  21.355\n",
       "4  11/23/2022      21.526  20315.0  21.260  21.780  21.095"
      ]
     },
     "execution_count": 3,
     "metadata": {},
     "output_type": "execute_result"
    }
   ],
   "source": [
    "df.head()"
   ]
  },
  {
   "cell_type": "code",
   "execution_count": 4,
   "id": "e1dbe7b9",
   "metadata": {},
   "outputs": [
    {
     "name": "stdout",
     "output_type": "stream",
     "text": [
      "<class 'pandas.core.frame.DataFrame'>\n",
      "RangeIndex: 1259 entries, 0 to 1258\n",
      "Data columns (total 6 columns):\n",
      " #   Column      Non-Null Count  Dtype  \n",
      "---  ------      --------------  -----  \n",
      " 0   Date        1259 non-null   object \n",
      " 1   Close/Last  1259 non-null   float64\n",
      " 2   Volume      1250 non-null   float64\n",
      " 3   Open        1259 non-null   float64\n",
      " 4   High        1259 non-null   float64\n",
      " 5   Low         1259 non-null   float64\n",
      "dtypes: float64(5), object(1)\n",
      "memory usage: 59.1+ KB\n"
     ]
    }
   ],
   "source": [
    "df.info()"
   ]
  },
  {
   "cell_type": "code",
   "execution_count": 5,
   "id": "0b6af885",
   "metadata": {},
   "outputs": [
    {
     "data": {
      "text/html": [
       "<div>\n",
       "<style scoped>\n",
       "    .dataframe tbody tr th:only-of-type {\n",
       "        vertical-align: middle;\n",
       "    }\n",
       "\n",
       "    .dataframe tbody tr th {\n",
       "        vertical-align: top;\n",
       "    }\n",
       "\n",
       "    .dataframe thead th {\n",
       "        text-align: right;\n",
       "    }\n",
       "</style>\n",
       "<table border=\"1\" class=\"dataframe\">\n",
       "  <thead>\n",
       "    <tr style=\"text-align: right;\">\n",
       "      <th></th>\n",
       "      <th>Close/Last</th>\n",
       "      <th>Volume</th>\n",
       "      <th>Open</th>\n",
       "      <th>High</th>\n",
       "      <th>Low</th>\n",
       "    </tr>\n",
       "  </thead>\n",
       "  <tbody>\n",
       "    <tr>\n",
       "      <th>count</th>\n",
       "      <td>1259.000000</td>\n",
       "      <td>1250.00000</td>\n",
       "      <td>1259.000000</td>\n",
       "      <td>1259.000000</td>\n",
       "      <td>1259.000000</td>\n",
       "    </tr>\n",
       "    <tr>\n",
       "      <th>mean</th>\n",
       "      <td>19.806008</td>\n",
       "      <td>62633.14320</td>\n",
       "      <td>19.820060</td>\n",
       "      <td>20.047642</td>\n",
       "      <td>19.558702</td>\n",
       "    </tr>\n",
       "    <tr>\n",
       "      <th>std</th>\n",
       "      <td>4.329010</td>\n",
       "      <td>37798.69542</td>\n",
       "      <td>4.339982</td>\n",
       "      <td>4.426561</td>\n",
       "      <td>4.227206</td>\n",
       "    </tr>\n",
       "    <tr>\n",
       "      <th>min</th>\n",
       "      <td>11.772000</td>\n",
       "      <td>1.00000</td>\n",
       "      <td>11.975000</td>\n",
       "      <td>12.330000</td>\n",
       "      <td>11.640000</td>\n",
       "    </tr>\n",
       "    <tr>\n",
       "      <th>25%</th>\n",
       "      <td>16.133000</td>\n",
       "      <td>42252.75000</td>\n",
       "      <td>16.140000</td>\n",
       "      <td>16.257500</td>\n",
       "      <td>15.992500</td>\n",
       "    </tr>\n",
       "    <tr>\n",
       "      <th>50%</th>\n",
       "      <td>18.168000</td>\n",
       "      <td>60558.50000</td>\n",
       "      <td>18.160000</td>\n",
       "      <td>18.400000</td>\n",
       "      <td>17.975000</td>\n",
       "    </tr>\n",
       "    <tr>\n",
       "      <th>75%</th>\n",
       "      <td>23.998000</td>\n",
       "      <td>77649.75000</td>\n",
       "      <td>24.020000</td>\n",
       "      <td>24.305000</td>\n",
       "      <td>23.617500</td>\n",
       "    </tr>\n",
       "    <tr>\n",
       "      <th>max</th>\n",
       "      <td>29.418000</td>\n",
       "      <td>347002.00000</td>\n",
       "      <td>29.235000</td>\n",
       "      <td>30.350000</td>\n",
       "      <td>28.300000</td>\n",
       "    </tr>\n",
       "  </tbody>\n",
       "</table>\n",
       "</div>"
      ],
      "text/plain": [
       "        Close/Last        Volume         Open         High          Low\n",
       "count  1259.000000    1250.00000  1259.000000  1259.000000  1259.000000\n",
       "mean     19.806008   62633.14320    19.820060    20.047642    19.558702\n",
       "std       4.329010   37798.69542     4.339982     4.426561     4.227206\n",
       "min      11.772000       1.00000    11.975000    12.330000    11.640000\n",
       "25%      16.133000   42252.75000    16.140000    16.257500    15.992500\n",
       "50%      18.168000   60558.50000    18.160000    18.400000    17.975000\n",
       "75%      23.998000   77649.75000    24.020000    24.305000    23.617500\n",
       "max      29.418000  347002.00000    29.235000    30.350000    28.300000"
      ]
     },
     "execution_count": 5,
     "metadata": {},
     "output_type": "execute_result"
    }
   ],
   "source": [
    "df.describe()"
   ]
  },
  {
   "cell_type": "code",
   "execution_count": 60,
   "id": "7f488d2c",
   "metadata": {},
   "outputs": [],
   "source": [
    "df['Date'] = pd.to_datetime(df['Date'])"
   ]
  },
  {
   "cell_type": "code",
   "execution_count": 61,
   "id": "20e843fe",
   "metadata": {},
   "outputs": [
    {
     "data": {
      "text/plain": [
       "0      2022-11-30\n",
       "1      2022-11-29\n",
       "2      2022-11-28\n",
       "3      2022-11-25\n",
       "4      2022-11-23\n",
       "          ...    \n",
       "1254   2017-12-07\n",
       "1255   2017-12-06\n",
       "1256   2017-12-05\n",
       "1257   2017-12-04\n",
       "1258   2017-12-01\n",
       "Name: Date, Length: 1259, dtype: datetime64[ns]"
      ]
     },
     "execution_count": 61,
     "metadata": {},
     "output_type": "execute_result"
    }
   ],
   "source": [
    "df['Date']"
   ]
  },
  {
   "cell_type": "markdown",
   "id": "9a5de126",
   "metadata": {},
   "source": [
    "#### Lets plot the stock data"
   ]
  },
  {
   "cell_type": "code",
   "execution_count": 65,
   "id": "42dc7f63",
   "metadata": {},
   "outputs": [
    {
     "data": {
      "text/plain": [
       "Text(0.5, 1.0, 'Price per day from 01-12-2017 for Silver in $')"
      ]
     },
     "execution_count": 65,
     "metadata": {},
     "output_type": "execute_result"
    },
    {
     "data": {
      "image/png": "[encoded data removed]",
      "text/plain": [
       "<Figure size 1440x576 with 1 Axes>"
      ]
     },
     "metadata": {
      "needs_background": "light"
     },
     "output_type": "display_data"
    }
   ],
   "source": [
    "plt.figure(figsize=(20,8))\n",
    "#plt.plot(df['Close/Last'])\n",
    "plt.plot(df['Date'],df['Close/Last'])\n",
    "plt.ylabel('Price in $')\n",
    "plt.xlabel('Day count from 01-12-2017')\n",
    "plt.title('Price per day from 01-12-2017 for Silver in $')"
   ]
  },
  {
   "cell_type": "markdown",
   "id": "6293fdf0",
   "metadata": {},
   "source": [
    "#### Scaling the data as LSTM's are sensitive to numeric values, this is a good paractice to normalise values before applying any ML algorithm"
   ]
  },
  {
   "cell_type": "code",
   "execution_count": 7,
   "id": "6f1aa9bb",
   "metadata": {},
   "outputs": [],
   "source": [
    "from sklearn.preprocessing import MinMaxScaler"
   ]
  },
  {
   "cell_type": "code",
   "execution_count": 8,
   "id": "bb2be51d",
   "metadata": {},
   "outputs": [],
   "source": [
    "df_1 = df['Close/Last']"
   ]
  },
  {
   "cell_type": "code",
   "execution_count": 9,
   "id": "36b5ce39",
   "metadata": {},
   "outputs": [
    {
     "data": {
      "text/plain": [
       "0    21.781\n",
       "1    21.436\n",
       "2    21.125\n",
       "3    21.609\n",
       "4    21.526\n",
       "Name: Close/Last, dtype: float64"
      ]
     },
     "execution_count": 9,
     "metadata": {},
     "output_type": "execute_result"
    }
   ],
   "source": [
    "df_1.head()"
   ]
  },
  {
   "cell_type": "code",
   "execution_count": 10,
   "id": "6afa04c1",
   "metadata": {},
   "outputs": [
    {
     "data": {
      "text/plain": [
       "0       21.781\n",
       "1       21.436\n",
       "2       21.125\n",
       "3       21.609\n",
       "4       21.526\n",
       "         ...  \n",
       "1254    15.802\n",
       "1255    15.955\n",
       "1256    16.068\n",
       "1257    16.373\n",
       "1258    16.388\n",
       "Name: Close/Last, Length: 1259, dtype: float64"
      ]
     },
     "execution_count": 10,
     "metadata": {},
     "output_type": "execute_result"
    }
   ],
   "source": [
    "df_1"
   ]
  },
  {
   "cell_type": "code",
   "execution_count": 11,
   "id": "b789e6f8",
   "metadata": {},
   "outputs": [],
   "source": [
    "scaler = MinMaxScaler(feature_range=(0,1))\n",
    "df_1 = scaler.fit_transform(np.array(df_1).reshape(-1,1))"
   ]
  },
  {
   "cell_type": "code",
   "execution_count": 12,
   "id": "39c1fec7",
   "metadata": {},
   "outputs": [
    {
     "data": {
      "text/plain": [
       "array([[0.5672107 ],\n",
       "       [0.54765953],\n",
       "       [0.53003514],\n",
       "       ...,\n",
       "       [0.24345461],\n",
       "       [0.26073898],\n",
       "       [0.26158903]])"
      ]
     },
     "execution_count": 12,
     "metadata": {},
     "output_type": "execute_result"
    }
   ],
   "source": [
    "df_1"
   ]
  },
  {
   "cell_type": "code",
   "execution_count": 13,
   "id": "7e810805",
   "metadata": {},
   "outputs": [
    {
     "data": {
      "text/plain": [
       "(1259, 1)"
      ]
     },
     "execution_count": 13,
     "metadata": {},
     "output_type": "execute_result"
    }
   ],
   "source": [
    "df_1.shape"
   ]
  },
  {
   "cell_type": "markdown",
   "id": "1933790f",
   "metadata": {},
   "source": [
    "#### Now Since we are working on time series data its always we have to split sequentially for Training and Testing"
   ]
  },
  {
   "cell_type": "code",
   "execution_count": 14,
   "id": "46dec38a",
   "metadata": {},
   "outputs": [],
   "source": [
    "#Lets set the train size and test size and do the split\n",
    "train_size=int(len(df_1)*0.80)  #Split is 70% train and 30% test\n",
    "test_size=len(df_1)-train_size"
   ]
  },
  {
   "cell_type": "code",
   "execution_count": 15,
   "id": "0e50d5bf",
   "metadata": {},
   "outputs": [],
   "source": [
    "train_data, test_data=df_1[0:train_size,:], df_1[train_size:len(df_1),:1]"
   ]
  },
  {
   "cell_type": "code",
   "execution_count": 16,
   "id": "a0f88507",
   "metadata": {},
   "outputs": [
    {
     "data": {
      "text/plain": [
       "(1007,\n",
       " array([[0.5672107 ],\n",
       "        [0.54765953],\n",
       "        [0.53003514],\n",
       "        ...,\n",
       "        [0.15924289],\n",
       "        [0.16252975],\n",
       "        [0.15453927]]),\n",
       " 252,\n",
       " array([[0.13855831],\n",
       "        [0.14904228],\n",
       "        [0.15204579],\n",
       "        [0.13878499],\n",
       "        [0.14569874],\n",
       "        [0.14705882],\n",
       "        [0.15346254],\n",
       "        [0.14150516],\n",
       "        [0.14909895],\n",
       "        [0.14790887],\n",
       "        [0.14116514],\n",
       "        [0.13079451],\n",
       "        [0.12354075],\n",
       "        [0.12478749],\n",
       "        [0.13419472],\n",
       "        [0.15023235],\n",
       "        [0.15850618],\n",
       "        [0.15459594],\n",
       "        [0.16292644],\n",
       "        [0.16910348],\n",
       "        [0.17029355],\n",
       "        [0.14224187],\n",
       "        [0.15244248],\n",
       "        [0.15130908],\n",
       "        [0.16592996],\n",
       "        [0.16196305],\n",
       "        [0.16456987],\n",
       "        [0.17120027],\n",
       "        [0.15952624],\n",
       "        [0.16309645],\n",
       "        [0.16048963],\n",
       "        [0.16383316],\n",
       "        [0.16598663],\n",
       "        [0.16343647],\n",
       "        [0.1622464 ],\n",
       "        [0.16060297],\n",
       "        [0.14473535],\n",
       "        [0.14892894],\n",
       "        [0.14093846],\n",
       "        [0.16303978],\n",
       "        [0.15969625],\n",
       "        [0.16422985],\n",
       "        [0.16553327],\n",
       "        [0.15499263],\n",
       "        [0.16661   ],\n",
       "        [0.13765159],\n",
       "        [0.14898561],\n",
       "        [0.15419925],\n",
       "        [0.1455854 ],\n",
       "        [0.14660546],\n",
       "        [0.14354528],\n",
       "        [0.13697155],\n",
       "        [0.13674487],\n",
       "        [0.13889833],\n",
       "        [0.13430806],\n",
       "        [0.14008841],\n",
       "        [0.14286524],\n",
       "        [0.13493143],\n",
       "        [0.13651819],\n",
       "        [0.13589482],\n",
       "        [0.13651819],\n",
       "        [0.13872832],\n",
       "        [0.13646152],\n",
       "        [0.15782614],\n",
       "        [0.15992293],\n",
       "        [0.17216366],\n",
       "        [0.16972685],\n",
       "        [0.18134421],\n",
       "        [0.17732064],\n",
       "        [0.16264309],\n",
       "        [0.17443047],\n",
       "        [0.16967018],\n",
       "        [0.16422985],\n",
       "        [0.16201972],\n",
       "        [0.16666667],\n",
       "        [0.15198912],\n",
       "        [0.18434773],\n",
       "        [0.18191091],\n",
       "        [0.19964865],\n",
       "        [0.20911255],\n",
       "        [0.20741244],\n",
       "        [0.20406891],\n",
       "        [0.19947864],\n",
       "        [0.20911255],\n",
       "        [0.20157543],\n",
       "        [0.20854585],\n",
       "        [0.21460954],\n",
       "        [0.2133628 ],\n",
       "        [0.21086932],\n",
       "        [0.20775247],\n",
       "        [0.21630965],\n",
       "        [0.21239941],\n",
       "        [0.20378556],\n",
       "        [0.21404284],\n",
       "        [0.20571234],\n",
       "        [0.21545959],\n",
       "        [0.21789641],\n",
       "        [0.22458348],\n",
       "        [0.22911708],\n",
       "        [0.23829763],\n",
       "        [0.22923042],\n",
       "        [0.24453134],\n",
       "        [0.24747818],\n",
       "        [0.24351128],\n",
       "        [0.24509804],\n",
       "        [0.24203786],\n",
       "        [0.23025048],\n",
       "        [0.25082172],\n",
       "        [0.24192452],\n",
       "        [0.25303185],\n",
       "        [0.25835883],\n",
       "        [0.26266576],\n",
       "        [0.27014621],\n",
       "        [0.25807548],\n",
       "        [0.25711209],\n",
       "        [0.25790547],\n",
       "        [0.26453587],\n",
       "        [0.26680267],\n",
       "        [0.31111867],\n",
       "        [0.29576108],\n",
       "        [0.29009407],\n",
       "        [0.29355095],\n",
       "        [0.28159356],\n",
       "        [0.28578715],\n",
       "        [0.27893007],\n",
       "        [0.27037289],\n",
       "        [0.26402584],\n",
       "        [0.26459254],\n",
       "        [0.26555593],\n",
       "        [0.27042956],\n",
       "        [0.26073898],\n",
       "        [0.2705429 ],\n",
       "        [0.27853338],\n",
       "        [0.26255242],\n",
       "        [0.27218633],\n",
       "        [0.26906948],\n",
       "        [0.26538592],\n",
       "        [0.26685934],\n",
       "        [0.26062564],\n",
       "        [0.25484529],\n",
       "        [0.27615324],\n",
       "        [0.28221693],\n",
       "        [0.28261362],\n",
       "        [0.27014621],\n",
       "        [0.26634931],\n",
       "        [0.26765273],\n",
       "        [0.26901281],\n",
       "        [0.26493256],\n",
       "        [0.26085232],\n",
       "        [0.24679814],\n",
       "        [0.26232574],\n",
       "        [0.26776607],\n",
       "        [0.27173297],\n",
       "        [0.27229967],\n",
       "        [0.28420039],\n",
       "        [0.27286637],\n",
       "        [0.30550833],\n",
       "        [0.30981526],\n",
       "        [0.31032529],\n",
       "        [0.28420039],\n",
       "        [0.27796668],\n",
       "        [0.27688995],\n",
       "        [0.26640598],\n",
       "        [0.28312365],\n",
       "        [0.2733764 ],\n",
       "        [0.26957951],\n",
       "        [0.26011561],\n",
       "        [0.25971892],\n",
       "        [0.25399524],\n",
       "        [0.26181571],\n",
       "        [0.27768333],\n",
       "        [0.25478862],\n",
       "        [0.25393857],\n",
       "        [0.27025955],\n",
       "        [0.27836337],\n",
       "        [0.27258302],\n",
       "        [0.26153236],\n",
       "        [0.2633458 ],\n",
       "        [0.25008501],\n",
       "        [0.25801881],\n",
       "        [0.2550153 ],\n",
       "        [0.26351581],\n",
       "        [0.27003287],\n",
       "        [0.27513317],\n",
       "        [0.2699762 ],\n",
       "        [0.27405644],\n",
       "        [0.26793608],\n",
       "        [0.26759606],\n",
       "        [0.28403038],\n",
       "        [0.26294911],\n",
       "        [0.26600929],\n",
       "        [0.25524198],\n",
       "        [0.26266576],\n",
       "        [0.25920889],\n",
       "        [0.27484982],\n",
       "        [0.27071291],\n",
       "        [0.27575655],\n",
       "        [0.27802335],\n",
       "        [0.26867279],\n",
       "        [0.28471042],\n",
       "        [0.28471042],\n",
       "        [0.28935736],\n",
       "        [0.26952284],\n",
       "        [0.27190298],\n",
       "        [0.24747818],\n",
       "        [0.25892554],\n",
       "        [0.25308852],\n",
       "        [0.27246968],\n",
       "        [0.27762666],\n",
       "        [0.27978012],\n",
       "        [0.30505497],\n",
       "        [0.3099286 ],\n",
       "        [0.29955797],\n",
       "        [0.30346821],\n",
       "        [0.32126261],\n",
       "        [0.3311232 ],\n",
       "        [0.32398277],\n",
       "        [0.29134081],\n",
       "        [0.29564774],\n",
       "        [0.29831123],\n",
       "        [0.29366429],\n",
       "        [0.30567834],\n",
       "        [0.30698175],\n",
       "        [0.30426159],\n",
       "        [0.29434433],\n",
       "        [0.29825456],\n",
       "        [0.29683781],\n",
       "        [0.3044316 ],\n",
       "        [0.31242208],\n",
       "        [0.31151536],\n",
       "        [0.31140202],\n",
       "        [0.30794514],\n",
       "        [0.30448827],\n",
       "        [0.29190751],\n",
       "        [0.28244361],\n",
       "        [0.27382976],\n",
       "        [0.26476255],\n",
       "        [0.25314519],\n",
       "        [0.25518531],\n",
       "        [0.24827156],\n",
       "        [0.25121841],\n",
       "        [0.24317126],\n",
       "        [0.23586082],\n",
       "        [0.23217726],\n",
       "        [0.22078658],\n",
       "        [0.22741698],\n",
       "        [0.22957044],\n",
       "        [0.22838037],\n",
       "        [0.23705089],\n",
       "        [0.24345461],\n",
       "        [0.26073898],\n",
       "        [0.26158903]]))"
      ]
     },
     "execution_count": 16,
     "metadata": {},
     "output_type": "execute_result"
    }
   ],
   "source": [
    "train_size, train_data, test_size, test_data"
   ]
  },
  {
   "cell_type": "markdown",
   "id": "866586ae",
   "metadata": {},
   "source": [
    "#### Convert to the dataset matrix"
   ]
  },
  {
   "cell_type": "code",
   "execution_count": 17,
   "id": "75f7099f",
   "metadata": {},
   "outputs": [],
   "source": [
    "def create_dataset(dataset, time_step=1):\n",
    "    data_X, data_Y = [], []\n",
    "    for i in range(len(dataset)-time_step-1):\n",
    "        a = dataset[i:(i+time_step), 0]  #i=0,1,2,3,4,5\n",
    "        data_X.append(a)\n",
    "        data_Y.append(dataset[i+time_step, 0])\n",
    "    return np.array(data_X), np.array(data_Y)"
   ]
  },
  {
   "cell_type": "code",
   "execution_count": 18,
   "id": "89ab1662",
   "metadata": {},
   "outputs": [],
   "source": [
    "# Reshape into X=t, t+1, t+2 and Y=t+4\n",
    "time_step = 10\n",
    "X_train, Y_train = create_dataset(train_data, time_step)\n",
    "X_test, Y_test = create_dataset(test_data, time_step)"
   ]
  },
  {
   "cell_type": "code",
   "execution_count": 19,
   "id": "4082a1d4",
   "metadata": {},
   "outputs": [
    {
     "name": "stdout",
     "output_type": "stream",
     "text": [
      "[[0.5672107  0.54765953 0.53003514 ... 0.53405871 0.53224527 0.55264649]\n",
      " [0.54765953 0.53003514 0.55746345 ... 0.53224527 0.55264649 0.55230647]\n",
      " [0.53003514 0.55746345 0.55275983 ... 0.55264649 0.55230647 0.58602516]\n",
      " ...\n",
      " [0.1755072  0.17261702 0.16598663 ... 0.16184971 0.1605463  0.16570328]\n",
      " [0.17261702 0.16598663 0.16927349 ... 0.1605463  0.16570328 0.15510597]\n",
      " [0.16598663 0.16927349 0.16235974 ... 0.16570328 0.15510597 0.15924289]]\n"
     ]
    }
   ],
   "source": [
    "print(X_train)"
   ]
  },
  {
   "cell_type": "code",
   "execution_count": 20,
   "id": "25493575",
   "metadata": {},
   "outputs": [
    {
     "name": "stdout",
     "output_type": "stream",
     "text": [
      "[0.55230647 0.58602516 0.56075031 0.56273376 0.54148249 0.55139975\n",
      " 0.5183611  0.51071064 0.43397937 0.44327326 0.44741018 0.41635498\n",
      " 0.41794174 0.43760626 0.4371529  0.4293891  0.42032189 0.41335147\n",
      " 0.39198685 0.37328573 0.38694322 0.39368695 0.35696475 0.4049643\n",
      " 0.4060977  0.43720957 0.44446333 0.48073218 0.50368355 0.49710983\n",
      " 0.52856171 0.49965998 0.41182138 0.39329026 0.40281084 0.37203899\n",
      " 0.38014281 0.40451094 0.44457667 0.43681288 0.41998187 0.42989913\n",
      " 0.43120254 0.42485549 0.44185651 0.43743625 0.4583475  0.39640712\n",
      " 0.37798935 0.36767539 0.34772753 0.34619744 0.33401337 0.34625411\n",
      " 0.36920549 0.39091012 0.39969398 0.41873512 0.40813782 0.41646832\n",
      " 0.40847784 0.41958518 0.44185651 0.45749745 0.477842   0.48962938\n",
      " 0.50583702 0.48605916 0.5083305  0.49359628 0.50107673 0.45732744\n",
      " 0.47319506 0.46027428 0.47415845 0.48679587 0.47744531 0.45880086\n",
      " 0.38694322 0.38325966 0.37152896 0.38790661 0.39368695 0.39079678\n",
      " 0.39334693 0.40054403 0.3866032  0.36569194 0.42060524 0.4072311\n",
      " 0.41709169 0.42298538 0.42026522 0.41862178 0.41646832 0.44741018\n",
      " 0.48622917 0.50810382 0.51569761 0.53354868 0.53196192 0.52810835\n",
      " 0.5511164  0.5711776  0.56154369 0.57820469 0.55139975 0.52034455\n",
      " 0.53740224 0.57571121 0.56925082 0.58494843 0.58970872 0.58483509\n",
      " 0.5744078  0.59520571 0.57480449 0.56194038 0.58506177 0.57763799\n",
      " 0.57225434 0.58319166 0.56392384 0.561147   0.5744078  0.55377989\n",
      " 0.56545393 0.55417658 0.52300805 0.51008727 0.55553667 0.54697949\n",
      " 0.56942083 0.60041936 0.60472628 0.60240281 0.61730704 0.61271676\n",
      " 0.64110847 0.64654879 0.66490989 0.66972685 0.67766066 0.71098266\n",
      " 0.73274396 0.76974952 0.77671994 0.81967585 0.78930069 0.80800181\n",
      " 0.79128414 0.74889493 0.73960104 0.73461408 0.71891647 0.72322339\n",
      " 0.72639692 0.7300238  0.75716876 0.75603536 0.73467075 0.76073898\n",
      " 0.78448374 0.80176811 0.76034229 0.74419132 0.76736938 0.75456194\n",
      " 0.78454041 0.73319733 0.75858552 0.76651932 0.81536892 0.82080925\n",
      " 0.79587442 0.85702142 0.79043409 0.79434433 0.7616457  0.76039896\n",
      " 0.78029015 0.71370282 0.69392497 0.73319733 0.72685028 0.71313612\n",
      " 0.69511504 0.68854131 0.67335373 0.65839284 0.68712456 0.65720277\n",
      " 0.66587329 0.655616   0.64762552 0.64059844 0.60653973 0.60087272\n",
      " 0.61968718 0.61334013 0.60189278 0.59667913 0.61793041 0.68202425\n",
      " 0.68706789 0.68162756 0.711096   0.73353735 0.70605236 0.66417318\n",
      " 0.63164457 0.64547206 0.64802221 0.62563754 0.60580301 0.6027995\n",
      " 0.59038876 0.64592542 0.63946503 0.6255242  0.65623937 0.63969171\n",
      " 0.62824436 0.64314859 0.63566814 0.63289131 0.62603423 0.60959991\n",
      " 0.59611243 0.60982659 0.60710643 0.55383656 0.57531452 0.59820923\n",
      " 0.59067211 0.58035815 0.60410291 0.60925989 0.59452567 0.60687975\n",
      " 0.59752919 0.5988326  0.62580755 0.62790434 0.64394197 0.66666667\n",
      " 0.66417318 0.71347614 0.74079111 0.74736484 0.76226907 0.74957497\n",
      " 0.755582   0.76923949 0.76668933 0.73671087 0.71098266 0.72367675\n",
      " 0.70185878 0.68791794 0.6493823  0.66502323 0.69709849 0.6900714\n",
      " 0.69976199 0.70378556 0.69794854 0.72651026 0.71840644 0.70259549\n",
      " 0.71817976 0.68633118 0.65125241 0.65606936 0.66332313 0.64592542\n",
      " 0.60874986 0.61730704 0.61957384 0.61691035 0.60976992 0.61407684\n",
      " 0.61611697 0.6099966  0.58228494 0.55043636 0.60608637 0.61895047\n",
      " 0.60370622 0.61810042 0.63102119 0.61424685 0.59118214 0.59871926\n",
      " 0.62461748 0.68168423 0.68644452 0.68140088 0.68729457 0.70299218\n",
      " 0.6961351  0.71409951 0.73841097 0.68831463 0.70548566 0.68871132\n",
      " 0.6933016  0.69919529 0.67006687 0.68287431 0.68939136 0.67613057\n",
      " 0.64535872 0.65210246 0.66292644 0.67635725 0.68111753 0.68043749\n",
      " 0.64286524 0.6639465  0.65850618 0.65153576 0.71143602 0.7661793\n",
      " 0.77575655 0.78261362 0.78221693 0.78063017 0.79394764 0.74266123\n",
      " 0.72974045 0.76765273 0.76283577 0.77122294 0.76408251 0.74934829\n",
      " 0.75779213 0.79468435 0.82862972 0.8216593  0.81423552 0.81984586\n",
      " 0.81956251 0.805565   0.81361215 0.8161623  0.83469341 0.81196872\n",
      " 0.8172957  0.80069137 0.82069591 0.81344214 0.81134535 0.81491556\n",
      " 0.80052136 0.80998527 0.80454494 0.79814122 0.90898787 0.90224413\n",
      " 0.92185198 0.92791567 0.92139862 0.91975519 0.9043976  0.92066191\n",
      " 0.91374816 0.8900034  0.93120254 0.92542219 0.92043523 0.91624164\n",
      " 0.91267143 0.92281537 0.91425819 0.89051343 0.92343874 0.9210586\n",
      " 0.93851298 0.93516944 0.88365635 0.86631531 0.87679927 0.90077071\n",
      " 0.89085345 0.89499037 0.8900034  0.83588349 0.83792361 0.86070498\n",
      " 0.79910461 0.81111867 0.81298878 0.83180324 0.82029922 0.8127621\n",
      " 0.81871246 0.84064377 0.7972345  0.79706449 0.81225207 0.80426159\n",
      " 0.77932676 0.77377309 0.74209453 0.76804942 0.78278363 0.76362915\n",
      " 0.76249575 0.73716423 0.7466848  0.72311005 0.70072538 0.7366542\n",
      " 0.75609203 0.75229514 0.76272243 0.76249575 0.79321093 0.8244928\n",
      " 0.8261929  0.80958858 0.80647172 0.82262269 0.80125808 0.81723903\n",
      " 0.81366882 0.81667233 0.76487589 0.76589595 0.77575655 0.82823303\n",
      " 0.8561147  0.84472402 0.83123654 0.90179077 0.9155616  0.90502097\n",
      " 0.92706562 0.87957611 0.86965885 0.88082285 0.88138955 0.88155956\n",
      " 0.86563527 0.86739204 0.88575315 0.89561374 0.86404851 0.81956251\n",
      " 0.8566814  0.82908308 1.         0.85809815 0.80188145 0.7716763\n",
      " 0.78012014 0.77705996 0.7811402  0.79802788 0.79304092 0.76776607\n",
      " 0.74203786 0.79508104 0.78204692 0.77428312 0.74878159 0.72906041\n",
      " 0.87776267 0.86535192 0.89924062 0.88359968 0.82964978 0.83877366\n",
      " 0.81859912 0.83684688 0.80108807 0.80182478 0.77995013 0.82777967\n",
      " 0.80817182 0.81655899 0.75257849 0.7294571  0.69562507 0.69817522\n",
      " 0.69828856 0.69239488 0.73467075 0.73795761 0.7072991  0.70072538\n",
      " 0.69749518 0.69806188 0.61322679 0.61583362 0.66156636 0.65952624\n",
      " 0.67919075 0.72078658 0.70225547 0.72458348 0.72985379 0.73841097\n",
      " 0.73688088 0.71030262 0.70809249 0.71914315 0.67601723 0.78714723\n",
      " 0.76045563 0.68689788 0.71188938 0.69483169 0.67290037 0.65669273\n",
      " 0.65663606 0.72526352 0.71676301 0.73121387 0.73314066 0.76328913\n",
      " 0.74849824 0.73251728 0.71591295 0.70565567 0.71534625 0.70027202\n",
      " 0.76498923 0.75575201 0.68593449 0.68706789 0.68848464 0.72469682\n",
      " 0.69460501 0.70735577 0.66428652 0.71817976 0.67052023 0.64156183\n",
      " 0.64739884 0.64224187 0.72260002 0.71489289 0.87028222 0.86863878\n",
      " 0.88994673 0.88926669 0.88308965 0.85486796 0.87946277 0.86767539\n",
      " 0.86246175 0.8466508  0.85588802 0.88535645 0.95619404 0.95330386\n",
      " 0.90774113 0.87419245 0.8972005  0.83044316 0.84982432 0.85600136\n",
      " 0.88002947 0.89051343 0.93341267 0.91023461 0.81134535 0.90366089\n",
      " 0.80511164 0.80907854 0.9911028  0.89357361 0.94230987 0.85673807\n",
      " 0.80788847 0.716593   0.70520231 0.65680608 0.71115267 0.7099626\n",
      " 0.72135328 0.627791   0.63561147 0.644452   0.5545166  0.47716196\n",
      " 0.45290717 0.44208319 0.45273716 0.43964638 0.45426726 0.41261476\n",
      " 0.40745778 0.41873512 0.39255355 0.38592316 0.37118894 0.36529525\n",
      " 0.38904001 0.35656806 0.36246175 0.35583135 0.34223053 0.36648532\n",
      " 0.35713476 0.35418792 0.33424005 0.34019041 0.33321999 0.31888247\n",
      " 0.32358608 0.3466508  0.34138048 0.34126714 0.34687748 0.32341607\n",
      " 0.35639805 0.35056103 0.36767539 0.39980732 0.37787601 0.35107106\n",
      " 0.33917035 0.3299898  0.33390003 0.31689901 0.35305452 0.34733084\n",
      " 0.3227927  0.29887793 0.24844157 0.22095659 0.22311005 0.22146662\n",
      " 0.22486683 0.21636632 0.18378103 0.18916468 0.17137028 0.17516718\n",
      " 0.18140088 0.19199819 0.20151876 0.20225547 0.19732517 0.21273943\n",
      " 0.21143602 0.18242095 0.22543353 0.19636178 0.22634025 0.2199932\n",
      " 0.25892554 0.21007594 0.23931769 0.19454834 0.21013261 0.18922135\n",
      " 0.15096906 0.16332313 0.12535419 0.13181458 0.13374136 0.1544826\n",
      " 0.16456987 0.17573388 0.13923835 0.08438173 0.03269863 0.02051456\n",
      " 0.         0.03949904 0.05916355 0.15459594 0.23988439 0.28357701\n",
      " 0.29094412 0.29933129 0.31117534 0.31565227 0.31021195 0.30358155\n",
      " 0.27808002 0.26153236 0.33792361 0.34806755 0.36812875 0.40734444\n",
      " 0.38246628 0.37101893 0.37056557 0.36036496 0.33679021 0.33134988\n",
      " 0.32443613 0.32874306 0.34075711 0.3339567  0.34262722 0.33038649\n",
      " 0.32806302 0.33424005 0.35135441 0.35248782 0.32386943 0.322226\n",
      " 0.3561147  0.35617137 0.3432506  0.34319392 0.33883033 0.35367789\n",
      " 0.3494843  0.35226114 0.3383203  0.3527145  0.35481129 0.34931429\n",
      " 0.36240508 0.37521251 0.36308512 0.35679474 0.355548   0.34319392\n",
      " 0.35299785 0.34971098 0.35237448 0.33917035 0.32454947 0.30352488\n",
      " 0.29955797 0.29904794 0.30035135 0.30267483 0.29128414 0.29338094\n",
      " 0.28771393 0.2733764  0.27598323 0.26685934 0.29961464 0.29151082\n",
      " 0.30335487 0.29434433 0.30227814 0.29128414 0.30692508 0.29797121\n",
      " 0.30460161 0.30822849 0.30193812 0.30210813 0.29627111 0.29247422\n",
      " 0.29785787 0.29134081 0.27796668 0.28505044 0.28397371 0.29457101\n",
      " 0.33015981 0.32845971 0.3566814  0.35316786 0.35673807 0.34245721\n",
      " 0.34336394 0.34591409 0.34506404 0.34183384 0.32913975 0.32460614\n",
      " 0.33038649 0.32471948 0.33095319 0.32046923 0.31372549 0.33650686\n",
      " 0.32245268 0.33038649 0.34217386 0.33123654 0.32687295 0.32687295\n",
      " 0.33458007 0.32981979 0.31338547 0.29615777 0.32755299 0.34795421\n",
      " 0.35707809 0.3822396  0.39323359 0.33809362 0.34636745 0.3483509\n",
      " 0.36087499 0.34733084 0.32097926 0.36297178 0.36257509 0.36348181\n",
      " 0.36240508 0.35112773 0.39867392 0.44060977 0.42304205 0.38014281\n",
      " 0.37124561 0.37878273 0.36982886 0.34075711 0.32766633 0.29706449\n",
      " 0.31270543 0.30465828 0.29287091 0.30318486 0.3083985  0.31213873\n",
      " 0.29542106 0.30029468 0.29236087 0.29264423 0.30511164 0.26481922\n",
      " 0.25915222 0.25490196 0.24980165 0.26255242 0.27122294 0.26453587\n",
      " 0.26209906 0.26289244 0.2750765  0.26657599 0.26289244 0.25065171\n",
      " 0.25082172 0.23353735 0.22135328 0.20361555 0.19630511 0.19120481\n",
      " 0.19573841 0.19126148 0.18576448 0.18298765 0.20197212 0.19641845\n",
      " 0.188938   0.1972685  0.19959198 0.1989686  0.20463561 0.20905588\n",
      " 0.2038989  0.21081265 0.18055083 0.18253429 0.17324039 0.17176697\n",
      " 0.17681061 0.16893347 0.16819676 0.16247308 0.18468775 0.17754732\n",
      " 0.17108693 0.1677434  0.16819676 0.15839284 0.15232914 0.14955231\n",
      " 0.14439533 0.1577128  0.16099966 0.15170577 0.14949564 0.15147909\n",
      " 0.14824889 0.15680608 0.172277   0.172277   0.17029355 0.17103026\n",
      " 0.17006687 0.17511051 0.17873739 0.17879406 0.18168423 0.16122634\n",
      " 0.16757339 0.17726397 0.17913408 0.18791794 0.18066417 0.1827043\n",
      " 0.17528052 0.18621784 0.18508444 0.1794741  0.17811402 0.18151422\n",
      " 0.18083418 0.17539386 0.19675847 0.19488836 0.1927349  0.1878046\n",
      " 0.18769126 0.18871132 0.18638785 0.18854131 0.18916468 0.18140088\n",
      " 0.19981866 0.20724243 0.2150629  0.20599569 0.2076958  0.19681514\n",
      " 0.20401224 0.20117874 0.20129208 0.18865465 0.20877253 0.20208546\n",
      " 0.19845857 0.20270883 0.18519778 0.18774793 0.18888133 0.18888133\n",
      " 0.19743851 0.2188598  0.22101326 0.23540746 0.2355208  0.24028108\n",
      " 0.23427406 0.25552533 0.23773093 0.22503684 0.21285277 0.2182931\n",
      " 0.22203332 0.22016321 0.22877706 0.22333673 0.22265669 0.23030715\n",
      " 0.23314066 0.23569081 0.24368129 0.23546413 0.23047716 0.22628358\n",
      " 0.22254335 0.199932   0.2044656  0.20134875 0.20554233 0.21330613\n",
      " 0.21908648 0.21806642 0.21744305 0.22010654 0.21936983 0.22458348\n",
      " 0.22333673 0.22577355 0.22747365 0.22809702 0.21970985 0.21353281\n",
      " 0.20763913 0.2004987  0.18990139 0.17273036 0.1660433  0.1755072\n",
      " 0.17261702 0.16598663 0.16927349 0.16235974 0.17471382 0.17448714\n",
      " 0.16184971 0.1605463  0.16570328 0.15510597 0.15924289 0.16252975]\n"
     ]
    }
   ],
   "source": [
    "print(Y_train)"
   ]
  },
  {
   "cell_type": "code",
   "execution_count": 21,
   "id": "adf635ab",
   "metadata": {},
   "outputs": [
    {
     "data": {
      "text/plain": [
       "(996, 996)"
      ]
     },
     "execution_count": 21,
     "metadata": {},
     "output_type": "execute_result"
    }
   ],
   "source": [
    "len(X_train), len(Y_train)"
   ]
  },
  {
   "cell_type": "code",
   "execution_count": 22,
   "id": "d664196b",
   "metadata": {},
   "outputs": [
    {
     "data": {
      "text/plain": [
       "(241, 241)"
      ]
     },
     "execution_count": 22,
     "metadata": {},
     "output_type": "execute_result"
    }
   ],
   "source": [
    "len(X_test), len(Y_test)"
   ]
  },
  {
   "cell_type": "code",
   "execution_count": 23,
   "id": "dc93b0e2",
   "metadata": {},
   "outputs": [
    {
     "data": {
      "text/plain": [
       "((996, 10), (996,))"
      ]
     },
     "execution_count": 23,
     "metadata": {},
     "output_type": "execute_result"
    }
   ],
   "source": [
    "X_train.shape, Y_train.shape"
   ]
  },
  {
   "cell_type": "markdown",
   "id": "301bf81f",
   "metadata": {},
   "source": [
    "#### Now we need to reshape the inputs to a 3D array of [samples, time samples, features] for the LSTM Neural Network "
   ]
  },
  {
   "cell_type": "code",
   "execution_count": 24,
   "id": "8e664373",
   "metadata": {},
   "outputs": [],
   "source": [
    "X_train = X_train.reshape(X_train.shape[0], X_train.shape[1], 1)\n",
    "X_test = X_test.reshape(X_test.shape[0], X_test.shape[1], 1)"
   ]
  },
  {
   "cell_type": "code",
   "execution_count": 25,
   "id": "edcd3442",
   "metadata": {},
   "outputs": [
    {
     "name": "stdout",
     "output_type": "stream",
     "text": [
      "[[[0.5672107 ]\n",
      "  [0.54765953]\n",
      "  [0.53003514]\n",
      "  ...\n",
      "  [0.53405871]\n",
      "  [0.53224527]\n",
      "  [0.55264649]]\n",
      "\n",
      " [[0.54765953]\n",
      "  [0.53003514]\n",
      "  [0.55746345]\n",
      "  ...\n",
      "  [0.53224527]\n",
      "  [0.55264649]\n",
      "  [0.55230647]]\n",
      "\n",
      " [[0.53003514]\n",
      "  [0.55746345]\n",
      "  [0.55275983]\n",
      "  ...\n",
      "  [0.55264649]\n",
      "  [0.55230647]\n",
      "  [0.58602516]]\n",
      "\n",
      " ...\n",
      "\n",
      " [[0.1755072 ]\n",
      "  [0.17261702]\n",
      "  [0.16598663]\n",
      "  ...\n",
      "  [0.16184971]\n",
      "  [0.1605463 ]\n",
      "  [0.16570328]]\n",
      "\n",
      " [[0.17261702]\n",
      "  [0.16598663]\n",
      "  [0.16927349]\n",
      "  ...\n",
      "  [0.1605463 ]\n",
      "  [0.16570328]\n",
      "  [0.15510597]]\n",
      "\n",
      " [[0.16598663]\n",
      "  [0.16927349]\n",
      "  [0.16235974]\n",
      "  ...\n",
      "  [0.16570328]\n",
      "  [0.15510597]\n",
      "  [0.15924289]]]\n",
      "[[[0.13855831]\n",
      "  [0.14904228]\n",
      "  [0.15204579]\n",
      "  ...\n",
      "  [0.14150516]\n",
      "  [0.14909895]\n",
      "  [0.14790887]]\n",
      "\n",
      " [[0.14904228]\n",
      "  [0.15204579]\n",
      "  [0.13878499]\n",
      "  ...\n",
      "  [0.14909895]\n",
      "  [0.14790887]\n",
      "  [0.14116514]]\n",
      "\n",
      " [[0.15204579]\n",
      "  [0.13878499]\n",
      "  [0.14569874]\n",
      "  ...\n",
      "  [0.14790887]\n",
      "  [0.14116514]\n",
      "  [0.13079451]]\n",
      "\n",
      " ...\n",
      "\n",
      " [[0.25518531]\n",
      "  [0.24827156]\n",
      "  [0.25121841]\n",
      "  ...\n",
      "  [0.22741698]\n",
      "  [0.22957044]\n",
      "  [0.22838037]]\n",
      "\n",
      " [[0.24827156]\n",
      "  [0.25121841]\n",
      "  [0.24317126]\n",
      "  ...\n",
      "  [0.22957044]\n",
      "  [0.22838037]\n",
      "  [0.23705089]]\n",
      "\n",
      " [[0.25121841]\n",
      "  [0.24317126]\n",
      "  [0.23586082]\n",
      "  ...\n",
      "  [0.22838037]\n",
      "  [0.23705089]\n",
      "  [0.24345461]]]\n"
     ]
    },
    {
     "data": {
      "text/plain": [
       "(None, None)"
      ]
     },
     "execution_count": 25,
     "metadata": {},
     "output_type": "execute_result"
    }
   ],
   "source": [
    "print(X_train), print(X_test)"
   ]
  },
  {
   "cell_type": "code",
   "execution_count": 26,
   "id": "805c8a6b",
   "metadata": {},
   "outputs": [
    {
     "name": "stdout",
     "output_type": "stream",
     "text": [
      "996\n",
      "241\n"
     ]
    },
    {
     "data": {
      "text/plain": [
       "(None, None)"
      ]
     },
     "execution_count": 26,
     "metadata": {},
     "output_type": "execute_result"
    }
   ],
   "source": [
    "print(len(X_train)), print(len(X_test))"
   ]
  },
  {
   "cell_type": "code",
   "execution_count": 27,
   "id": "d7700983",
   "metadata": {},
   "outputs": [
    {
     "name": "stdout",
     "output_type": "stream",
     "text": [
      "(996, 10, 1) (241, 10, 1)\n"
     ]
    }
   ],
   "source": [
    "print(X_train.shape, X_test.shape)"
   ]
  },
  {
   "cell_type": "markdown",
   "id": "f2348258",
   "metadata": {},
   "source": [
    "#### Create the LSTM Neural Network model using Tensorflow"
   ]
  },
  {
   "cell_type": "code",
   "execution_count": 28,
   "id": "b24a73ec",
   "metadata": {},
   "outputs": [],
   "source": [
    "import tensorflow"
   ]
  },
  {
   "cell_type": "code",
   "execution_count": 29,
   "id": "7883e6b0",
   "metadata": {},
   "outputs": [],
   "source": [
    "from tensorflow.keras.models import Sequential\n",
    "from tensorflow.keras.layers import Dense, LSTM"
   ]
  },
  {
   "cell_type": "code",
   "execution_count": 30,
   "id": "e025fdfb",
   "metadata": {},
   "outputs": [],
   "source": [
    "#Building a stacked LSTM model"
   ]
  },
  {
   "cell_type": "code",
   "execution_count": 45,
   "id": "333efa5f",
   "metadata": {},
   "outputs": [],
   "source": [
    "model = Sequential()\n",
    "model.add(LSTM(50, return_sequences=True, input_shape=(10,1))) #Input Layer with 10 time steps\n",
    "model.add(LSTM(50, return_sequences=True)) #Layer 2\n",
    "model.add(LSTM(50)) #Layer 3 pre output with no return sequences\n",
    "model.add(Dense(1)) #Output Layer\n",
    "model.compile(loss=\"mean_squared_error\", optimizer='adam')"
   ]
  },
  {
   "cell_type": "code",
   "execution_count": 46,
   "id": "3f5b1a8a",
   "metadata": {},
   "outputs": [
    {
     "name": "stdout",
     "output_type": "stream",
     "text": [
      "Model: \"sequential_5\"\n",
      "_________________________________________________________________\n",
      "Layer (type)                 Output Shape              Param #   \n",
      "=================================================================\n",
      "lstm_15 (LSTM)               (None, 10, 50)            10400     \n",
      "_________________________________________________________________\n",
      "lstm_16 (LSTM)               (None, 10, 50)            20200     \n",
      "_________________________________________________________________\n",
      "lstm_17 (LSTM)               (None, 50)                20200     \n",
      "_________________________________________________________________\n",
      "dense_5 (Dense)              (None, 1)                 51        \n",
      "=================================================================\n",
      "Total params: 50,851\n",
      "Trainable params: 50,851\n",
      "Non-trainable params: 0\n",
      "_________________________________________________________________\n"
     ]
    }
   ],
   "source": [
    "model.summary()"
   ]
  },
  {
   "cell_type": "code",
   "execution_count": 47,
   "id": "0f1babc2",
   "metadata": {},
   "outputs": [
    {
     "name": "stdout",
     "output_type": "stream",
     "text": [
      "Epoch 1/120\n",
      "16/16 [==============================] - 4s 100ms/step - loss: 0.1309 - val_loss: 0.0487\n",
      "Epoch 2/120\n",
      "16/16 [==============================] - 0s 14ms/step - loss: 0.0172 - val_loss: 0.0147\n",
      "Epoch 3/120\n",
      "16/16 [==============================] - 0s 11ms/step - loss: 0.0087 - val_loss: 0.0033\n",
      "Epoch 4/120\n",
      "16/16 [==============================] - 0s 10ms/step - loss: 0.0044 - val_loss: 4.2025e-04\n",
      "Epoch 5/120\n",
      "16/16 [==============================] - 0s 10ms/step - loss: 0.0032 - val_loss: 3.8618e-04\n",
      "Epoch 6/120\n",
      "16/16 [==============================] - 0s 10ms/step - loss: 0.0032 - val_loss: 3.7557e-04\n",
      "Epoch 7/120\n",
      "16/16 [==============================] - 0s 10ms/step - loss: 0.0031 - val_loss: 3.8658e-04\n",
      "Epoch 8/120\n",
      "16/16 [==============================] - 0s 10ms/step - loss: 0.0032 - val_loss: 3.6920e-04\n",
      "Epoch 9/120\n",
      "16/16 [==============================] - 0s 9ms/step - loss: 0.0031 - val_loss: 4.0571e-04\n",
      "Epoch 10/120\n",
      "16/16 [==============================] - 0s 10ms/step - loss: 0.0031 - val_loss: 3.6344e-04\n",
      "Epoch 11/120\n",
      "16/16 [==============================] - 0s 11ms/step - loss: 0.0030 - val_loss: 3.8372e-04\n",
      "Epoch 12/120\n",
      "16/16 [==============================] - 0s 11ms/step - loss: 0.0032 - val_loss: 3.7838e-04\n",
      "Epoch 13/120\n",
      "16/16 [==============================] - 0s 12ms/step - loss: 0.0031 - val_loss: 3.6096e-04\n",
      "Epoch 14/120\n",
      "16/16 [==============================] - 0s 10ms/step - loss: 0.0030 - val_loss: 3.8168e-04\n",
      "Epoch 15/120\n",
      "16/16 [==============================] - 0s 10ms/step - loss: 0.0031 - val_loss: 3.4535e-04\n",
      "Epoch 16/120\n",
      "16/16 [==============================] - 0s 9ms/step - loss: 0.0030 - val_loss: 3.8697e-04\n",
      "Epoch 17/120\n",
      "16/16 [==============================] - 0s 10ms/step - loss: 0.0031 - val_loss: 3.9653e-04\n",
      "Epoch 18/120\n",
      "16/16 [==============================] - 0s 10ms/step - loss: 0.0031 - val_loss: 3.3934e-04\n",
      "Epoch 19/120\n",
      "16/16 [==============================] - 0s 9ms/step - loss: 0.0030 - val_loss: 3.4510e-04\n",
      "Epoch 20/120\n",
      "16/16 [==============================] - 0s 10ms/step - loss: 0.0030 - val_loss: 3.6763e-04\n",
      "Epoch 21/120\n",
      "16/16 [==============================] - 0s 10ms/step - loss: 0.0029 - val_loss: 3.5768e-04\n",
      "Epoch 22/120\n",
      "16/16 [==============================] - 0s 9ms/step - loss: 0.0030 - val_loss: 3.5469e-04\n",
      "Epoch 23/120\n",
      "16/16 [==============================] - 0s 9ms/step - loss: 0.0029 - val_loss: 3.4902e-04\n",
      "Epoch 24/120\n",
      "16/16 [==============================] - 0s 11ms/step - loss: 0.0029 - val_loss: 3.7168e-04\n",
      "Epoch 25/120\n",
      "16/16 [==============================] - 0s 10ms/step - loss: 0.0031 - val_loss: 3.6749e-04\n",
      "Epoch 26/120\n",
      "16/16 [==============================] - 0s 11ms/step - loss: 0.0030 - val_loss: 4.1249e-04\n",
      "Epoch 27/120\n",
      "16/16 [==============================] - 0s 9ms/step - loss: 0.0029 - val_loss: 3.3851e-04\n",
      "Epoch 28/120\n",
      "16/16 [==============================] - 0s 9ms/step - loss: 0.0030 - val_loss: 3.7967e-04\n",
      "Epoch 29/120\n",
      "16/16 [==============================] - 0s 9ms/step - loss: 0.0029 - val_loss: 3.3558e-04\n",
      "Epoch 30/120\n",
      "16/16 [==============================] - 0s 9ms/step - loss: 0.0028 - val_loss: 3.2390e-04\n",
      "Epoch 31/120\n",
      "16/16 [==============================] - 0s 9ms/step - loss: 0.0028 - val_loss: 3.2223e-04\n",
      "Epoch 32/120\n",
      "16/16 [==============================] - 0s 9ms/step - loss: 0.0028 - val_loss: 3.2003e-04\n",
      "Epoch 33/120\n",
      "16/16 [==============================] - 0s 9ms/step - loss: 0.0028 - val_loss: 4.7965e-04\n",
      "Epoch 34/120\n",
      "16/16 [==============================] - 0s 9ms/step - loss: 0.0028 - val_loss: 3.1332e-04\n",
      "Epoch 35/120\n",
      "16/16 [==============================] - 0s 9ms/step - loss: 0.0027 - val_loss: 3.1253e-04\n",
      "Epoch 36/120\n",
      "16/16 [==============================] - 0s 9ms/step - loss: 0.0027 - val_loss: 3.1587e-04\n",
      "Epoch 37/120\n",
      "16/16 [==============================] - 0s 10ms/step - loss: 0.0027 - val_loss: 3.4609e-04\n",
      "Epoch 38/120\n",
      "16/16 [==============================] - 0s 10ms/step - loss: 0.0026 - val_loss: 3.0559e-04\n",
      "Epoch 39/120\n",
      "16/16 [==============================] - 0s 11ms/step - loss: 0.0029 - val_loss: 3.5711e-04\n",
      "Epoch 40/120\n",
      "16/16 [==============================] - 0s 9ms/step - loss: 0.0027 - val_loss: 3.2360e-04\n",
      "Epoch 41/120\n",
      "16/16 [==============================] - 0s 9ms/step - loss: 0.0026 - val_loss: 3.0587e-04\n",
      "Epoch 42/120\n",
      "16/16 [==============================] - 0s 9ms/step - loss: 0.0026 - val_loss: 2.9729e-04\n",
      "Epoch 43/120\n",
      "16/16 [==============================] - 0s 9ms/step - loss: 0.0025 - val_loss: 3.8786e-04\n",
      "Epoch 44/120\n",
      "16/16 [==============================] - 0s 11ms/step - loss: 0.0029 - val_loss: 3.0115e-04\n",
      "Epoch 45/120\n",
      "16/16 [==============================] - 0s 10ms/step - loss: 0.0025 - val_loss: 3.1149e-04\n",
      "Epoch 46/120\n",
      "16/16 [==============================] - 0s 10ms/step - loss: 0.0024 - val_loss: 2.9435e-04\n",
      "Epoch 47/120\n",
      "16/16 [==============================] - 0s 11ms/step - loss: 0.0025 - val_loss: 2.8417e-04\n",
      "Epoch 48/120\n",
      "16/16 [==============================] - 0s 11ms/step - loss: 0.0023 - val_loss: 2.8831e-04\n",
      "Epoch 49/120\n",
      "16/16 [==============================] - 0s 11ms/step - loss: 0.0023 - val_loss: 2.8507e-04\n",
      "Epoch 50/120\n",
      "16/16 [==============================] - 0s 10ms/step - loss: 0.0024 - val_loss: 3.7853e-04\n",
      "Epoch 51/120\n",
      "16/16 [==============================] - 0s 10ms/step - loss: 0.0024 - val_loss: 3.4033e-04\n",
      "Epoch 52/120\n",
      "16/16 [==============================] - 0s 11ms/step - loss: 0.0021 - val_loss: 2.7406e-04\n",
      "Epoch 53/120\n",
      "16/16 [==============================] - 0s 10ms/step - loss: 0.0021 - val_loss: 3.3242e-04\n",
      "Epoch 54/120\n",
      "16/16 [==============================] - 0s 10ms/step - loss: 0.0021 - val_loss: 3.2708e-04\n",
      "Epoch 55/120\n",
      "16/16 [==============================] - 0s 10ms/step - loss: 0.0021 - val_loss: 2.5586e-04\n",
      "Epoch 56/120\n",
      "16/16 [==============================] - 0s 10ms/step - loss: 0.0020 - val_loss: 3.6294e-04\n",
      "Epoch 57/120\n",
      "16/16 [==============================] - 0s 10ms/step - loss: 0.0023 - val_loss: 2.8857e-04\n",
      "Epoch 58/120\n",
      "16/16 [==============================] - 0s 9ms/step - loss: 0.0020 - val_loss: 2.7312e-04\n",
      "Epoch 59/120\n",
      "16/16 [==============================] - 0s 9ms/step - loss: 0.0018 - val_loss: 2.6552e-04\n",
      "Epoch 60/120\n",
      "16/16 [==============================] - 0s 9ms/step - loss: 0.0018 - val_loss: 2.5528e-04\n",
      "Epoch 61/120\n",
      "16/16 [==============================] - 0s 9ms/step - loss: 0.0018 - val_loss: 2.3949e-04\n",
      "Epoch 62/120\n",
      "16/16 [==============================] - 0s 11ms/step - loss: 0.0019 - val_loss: 2.4047e-04\n",
      "Epoch 63/120\n",
      "16/16 [==============================] - 0s 10ms/step - loss: 0.0020 - val_loss: 2.6732e-04\n",
      "Epoch 64/120\n",
      "16/16 [==============================] - 0s 10ms/step - loss: 0.0018 - val_loss: 2.5629e-04\n",
      "Epoch 65/120\n",
      "16/16 [==============================] - 0s 10ms/step - loss: 0.0018 - val_loss: 2.3696e-04\n",
      "Epoch 66/120\n",
      "16/16 [==============================] - 0s 9ms/step - loss: 0.0019 - val_loss: 2.7879e-04\n",
      "Epoch 67/120\n",
      "16/16 [==============================] - 0s 10ms/step - loss: 0.0019 - val_loss: 3.0215e-04\n",
      "Epoch 68/120\n",
      "16/16 [==============================] - 0s 9ms/step - loss: 0.0017 - val_loss: 2.2792e-04\n",
      "Epoch 69/120\n",
      "16/16 [==============================] - 0s 9ms/step - loss: 0.0016 - val_loss: 2.3336e-04\n",
      "Epoch 70/120\n",
      "16/16 [==============================] - 0s 10ms/step - loss: 0.0016 - val_loss: 2.3471e-04\n",
      "Epoch 71/120\n",
      "16/16 [==============================] - 0s 13ms/step - loss: 0.0016 - val_loss: 2.2741e-04\n",
      "Epoch 72/120\n",
      "16/16 [==============================] - 0s 12ms/step - loss: 0.0016 - val_loss: 2.2643e-04\n",
      "Epoch 73/120\n",
      "16/16 [==============================] - 0s 13ms/step - loss: 0.0016 - val_loss: 2.2839e-04\n",
      "Epoch 74/120\n",
      "16/16 [==============================] - 0s 11ms/step - loss: 0.0016 - val_loss: 2.2421e-04\n",
      "Epoch 75/120\n",
      "16/16 [==============================] - 0s 10ms/step - loss: 0.0017 - val_loss: 2.1746e-04\n",
      "Epoch 76/120\n",
      "16/16 [==============================] - 0s 10ms/step - loss: 0.0015 - val_loss: 2.2670e-04\n",
      "Epoch 77/120\n",
      "16/16 [==============================] - 0s 10ms/step - loss: 0.0015 - val_loss: 2.1086e-04\n",
      "Epoch 78/120\n",
      "16/16 [==============================] - 0s 9ms/step - loss: 0.0016 - val_loss: 2.3510e-04\n",
      "Epoch 79/120\n"
     ]
    },
    {
     "name": "stdout",
     "output_type": "stream",
     "text": [
      "16/16 [==============================] - 0s 10ms/step - loss: 0.0015 - val_loss: 2.2416e-04\n",
      "Epoch 80/120\n",
      "16/16 [==============================] - 0s 9ms/step - loss: 0.0014 - val_loss: 3.0704e-04\n",
      "Epoch 81/120\n",
      "16/16 [==============================] - 0s 9ms/step - loss: 0.0014 - val_loss: 2.2194e-04\n",
      "Epoch 82/120\n",
      "16/16 [==============================] - 0s 9ms/step - loss: 0.0014 - val_loss: 2.0034e-04\n",
      "Epoch 83/120\n",
      "16/16 [==============================] - 0s 9ms/step - loss: 0.0013 - val_loss: 1.9817e-04\n",
      "Epoch 84/120\n",
      "16/16 [==============================] - 0s 9ms/step - loss: 0.0013 - val_loss: 2.1417e-04\n",
      "Epoch 85/120\n",
      "16/16 [==============================] - 0s 10ms/step - loss: 0.0013 - val_loss: 1.9456e-04\n",
      "Epoch 86/120\n",
      "16/16 [==============================] - 0s 9ms/step - loss: 0.0013 - val_loss: 2.2957e-04\n",
      "Epoch 87/120\n",
      "16/16 [==============================] - 0s 9ms/step - loss: 0.0013 - val_loss: 2.0918e-04\n",
      "Epoch 88/120\n",
      "16/16 [==============================] - 0s 10ms/step - loss: 0.0014 - val_loss: 2.7203e-04\n",
      "Epoch 89/120\n",
      "16/16 [==============================] - 0s 9ms/step - loss: 0.0015 - val_loss: 2.6339e-04\n",
      "Epoch 90/120\n",
      "16/16 [==============================] - 0s 10ms/step - loss: 0.0014 - val_loss: 2.2586e-04\n",
      "Epoch 91/120\n",
      "16/16 [==============================] - 0s 10ms/step - loss: 0.0014 - val_loss: 2.3718e-04\n",
      "Epoch 92/120\n",
      "16/16 [==============================] - 0s 10ms/step - loss: 0.0015 - val_loss: 2.2483e-04\n",
      "Epoch 93/120\n",
      "16/16 [==============================] - 0s 10ms/step - loss: 0.0013 - val_loss: 1.8261e-04\n",
      "Epoch 94/120\n",
      "16/16 [==============================] - 0s 11ms/step - loss: 0.0011 - val_loss: 1.8030e-04\n",
      "Epoch 95/120\n",
      "16/16 [==============================] - 0s 10ms/step - loss: 0.0011 - val_loss: 2.1756e-04\n",
      "Epoch 96/120\n",
      "16/16 [==============================] - 0s 10ms/step - loss: 0.0012 - val_loss: 1.7490e-04\n",
      "Epoch 97/120\n",
      "16/16 [==============================] - 0s 10ms/step - loss: 0.0011 - val_loss: 1.7471e-04\n",
      "Epoch 98/120\n",
      "16/16 [==============================] - 0s 10ms/step - loss: 0.0012 - val_loss: 1.8230e-04\n",
      "Epoch 99/120\n",
      "16/16 [==============================] - 0s 10ms/step - loss: 0.0011 - val_loss: 1.7293e-04\n",
      "Epoch 100/120\n",
      "16/16 [==============================] - 0s 10ms/step - loss: 0.0010 - val_loss: 2.0996e-04\n",
      "Epoch 101/120\n",
      "16/16 [==============================] - 0s 10ms/step - loss: 0.0015 - val_loss: 2.2956e-04\n",
      "Epoch 102/120\n",
      "16/16 [==============================] - 0s 10ms/step - loss: 0.0011 - val_loss: 2.1832e-04\n",
      "Epoch 103/120\n",
      "16/16 [==============================] - 0s 10ms/step - loss: 0.0011 - val_loss: 1.6972e-04\n",
      "Epoch 104/120\n",
      "16/16 [==============================] - 0s 10ms/step - loss: 0.0010 - val_loss: 1.7326e-04\n",
      "Epoch 105/120\n",
      "16/16 [==============================] - 0s 10ms/step - loss: 0.0011 - val_loss: 2.4204e-04\n",
      "Epoch 106/120\n",
      "16/16 [==============================] - 0s 9ms/step - loss: 0.0013 - val_loss: 1.6213e-04\n",
      "Epoch 107/120\n",
      "16/16 [==============================] - 0s 9ms/step - loss: 0.0011 - val_loss: 1.6079e-04\n",
      "Epoch 108/120\n",
      "16/16 [==============================] - 0s 9ms/step - loss: 9.8049e-04 - val_loss: 1.7941e-04\n",
      "Epoch 109/120\n",
      "16/16 [==============================] - 0s 9ms/step - loss: 0.0010 - val_loss: 2.0736e-04\n",
      "Epoch 110/120\n",
      "16/16 [==============================] - 0s 9ms/step - loss: 0.0010 - val_loss: 1.6510e-04\n",
      "Epoch 111/120\n",
      "16/16 [==============================] - 0s 10ms/step - loss: 0.0011 - val_loss: 1.9649e-04\n",
      "Epoch 112/120\n",
      "16/16 [==============================] - 0s 9ms/step - loss: 0.0011 - val_loss: 1.5483e-04\n",
      "Epoch 113/120\n",
      "16/16 [==============================] - 0s 10ms/step - loss: 0.0010 - val_loss: 3.6853e-04\n",
      "Epoch 114/120\n",
      "16/16 [==============================] - 0s 9ms/step - loss: 0.0011 - val_loss: 1.5766e-04\n",
      "Epoch 115/120\n",
      "16/16 [==============================] - 0s 9ms/step - loss: 9.2016e-04 - val_loss: 1.9161e-04\n",
      "Epoch 116/120\n",
      "16/16 [==============================] - 0s 10ms/step - loss: 9.5937e-04 - val_loss: 1.6311e-04\n",
      "Epoch 117/120\n",
      "16/16 [==============================] - 0s 9ms/step - loss: 0.0010 - val_loss: 1.7390e-04\n",
      "Epoch 118/120\n",
      "16/16 [==============================] - 0s 9ms/step - loss: 9.5131e-04 - val_loss: 2.0899e-04\n",
      "Epoch 119/120\n",
      "16/16 [==============================] - 0s 10ms/step - loss: 0.0011 - val_loss: 1.5331e-04\n",
      "Epoch 120/120\n",
      "16/16 [==============================] - 0s 10ms/step - loss: 9.7440e-04 - val_loss: 1.5889e-04\n"
     ]
    },
    {
     "data": {
      "text/plain": [
       "<keras.callbacks.History at 0x144951e3160>"
      ]
     },
     "execution_count": 47,
     "metadata": {},
     "output_type": "execute_result"
    }
   ],
   "source": [
    "model.fit(X_train, Y_train, validation_data=(X_test, Y_test), epochs=120, batch_size=64, verbose=1)"
   ]
  },
  {
   "cell_type": "code",
   "execution_count": 48,
   "id": "c25a1418",
   "metadata": {},
   "outputs": [],
   "source": [
    "X_train_predictions = model.predict(X_train)\n",
    "X_test_predictions = model.predict(X_test)"
   ]
  },
  {
   "cell_type": "markdown",
   "id": "1cc0ff8e",
   "metadata": {},
   "source": [
    "#### Now we need to transform back the predictions to their original values which are human interepretable"
   ]
  },
  {
   "cell_type": "code",
   "execution_count": 49,
   "id": "a385b3b9",
   "metadata": {},
   "outputs": [],
   "source": [
    "X_train_predictions_transformed = scaler.inverse_transform(X_train_predictions)\n",
    "X_test_predictions_transformed = scaler.inverse_transform(X_test_predictions)"
   ]
  },
  {
   "cell_type": "markdown",
   "id": "b6bf5fbc",
   "metadata": {},
   "source": [
    "#### Calculating the metrics"
   ]
  },
  {
   "cell_type": "code",
   "execution_count": 50,
   "id": "63b06665",
   "metadata": {},
   "outputs": [],
   "source": [
    "import math\n",
    "from sklearn.metrics import mean_squared_error"
   ]
  },
  {
   "cell_type": "code",
   "execution_count": 52,
   "id": "2c812922",
   "metadata": {},
   "outputs": [
    {
     "data": {
      "text/plain": [
       "20.79977554295733"
      ]
     },
     "execution_count": 52,
     "metadata": {},
     "output_type": "execute_result"
    }
   ],
   "source": [
    "math.sqrt(mean_squared_error(Y_train, X_train_predictions_transformed))"
   ]
  },
  {
   "cell_type": "code",
   "execution_count": 53,
   "id": "3c73ebc1",
   "metadata": {},
   "outputs": [
    {
     "data": {
      "text/plain": [
       "15.741573965021008"
      ]
     },
     "execution_count": 53,
     "metadata": {},
     "output_type": "execute_result"
    }
   ],
   "source": [
    "math.sqrt(mean_squared_error(Y_test, X_test_predictions_transformed))"
   ]
  },
  {
   "cell_type": "code",
   "execution_count": null,
   "id": "0f31511e",
   "metadata": {},
   "outputs": [],
   "source": []
  },
  {
   "cell_type": "code",
   "execution_count": 59,
   "id": "21a530c4",
   "metadata": {},
   "outputs": [
    {
     "data": {
      "image/png": "[encoded data removed]",
      "text/plain": [
       "<Figure size 1224x576 with 1 Axes>"
      ]
     },
     "metadata": {
      "needs_background": "light"
     },
     "output_type": "display_data"
    }
   ],
   "source": [
    "### Plotting \n",
    "# shift train predictions for plotting\n",
    "look_back=10\n",
    "plt.figure(figsize=(17,8))\n",
    "trainPredictPlot = np.empty_like(df_1)\n",
    "trainPredictPlot[:, :] = np.nan\n",
    "trainPredictPlot[look_back:len(X_train_predictions_transformed)+look_back, :] = X_train_predictions_transformed\n",
    "# shift test predictions for plotting\n",
    "testPredictPlot = np.empty_like(df_1)\n",
    "testPredictPlot[:, :] = np.nan\n",
    "testPredictPlot[len(X_train_predictions_transformed)+(look_back*2)+1:len(df_1)-1, :] = X_test_predictions_transformed\n",
    "# plot baseline and predictions\n",
    "plt.plot(scaler.inverse_transform(df_1))\n",
    "plt.plot(trainPredictPlot, label='Train')\n",
    "plt.plot(testPredictPlot, label='Test')\n",
    "plt.legend()\n",
    "plt.show()"
   ]
  },
  {
   "cell_type": "markdown",
   "id": "e6a59f3e",
   "metadata": {},
   "source": [
    "#### Now we see our model has been trained pretty well now lets do the prediction for next 10 Days"
   ]
  },
  {
   "cell_type": "code",
   "execution_count": 66,
   "id": "20bd9095",
   "metadata": {},
   "outputs": [],
   "source": [
    "from keras.preprocessing.sequence import TimeseriesGenerator"
   ]
  },
  {
   "cell_type": "code",
   "execution_count": null,
   "id": "99306bed",
   "metadata": {},
   "outputs": [],
   "source": []
  }
 ],
 "metadata": {
  "kernelspec": {
   "display_name": "Python 3",
   "language": "python",
   "name": "python3"
  },
  "language_info": {
   "codemirror_mode": {
    "name": "ipython",
    "version": 3
   },
   "file_extension": ".py",
   "mimetype": "text/x-python",
   "name": "python",
   "nbconvert_exporter": "python",
   "pygments_lexer": "ipython3",
   "version": "3.8.8"
  }
 },
 "nbformat": 4,
 "nbformat_minor": 5
}
