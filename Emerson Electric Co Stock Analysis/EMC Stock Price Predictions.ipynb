{
 "cells": [
  {
   "cell_type": "code",
   "execution_count": 1,
   "id": "0d455b0e",
   "metadata": {},
   "outputs": [],
   "source": [
    "import pandas as pd\n",
    "import nltk\n",
    "import seaborn as sns\n",
    "import numpy as np\n",
    "import matplotlib.pyplot as plt"
   ]
  },
  {
   "cell_type": "code",
   "execution_count": 2,
   "id": "8ddebffb",
   "metadata": {},
   "outputs": [],
   "source": [
    "df = pd.read_csv('EMR.csv')"
   ]
  },
  {
   "cell_type": "code",
   "execution_count": 3,
   "id": "197945ab",
   "metadata": {},
   "outputs": [
    {
     "data": {
      "text/html": [
       "<div>\n",
       "<style scoped>\n",
       "    .dataframe tbody tr th:only-of-type {\n",
       "        vertical-align: middle;\n",
       "    }\n",
       "\n",
       "    .dataframe tbody tr th {\n",
       "        vertical-align: top;\n",
       "    }\n",
       "\n",
       "    .dataframe thead th {\n",
       "        text-align: right;\n",
       "    }\n",
       "</style>\n",
       "<table border=\"1\" class=\"dataframe\">\n",
       "  <thead>\n",
       "    <tr style=\"text-align: right;\">\n",
       "      <th></th>\n",
       "      <th>Date</th>\n",
       "      <th>Low</th>\n",
       "      <th>Open</th>\n",
       "      <th>Volume</th>\n",
       "      <th>High</th>\n",
       "      <th>Close</th>\n",
       "      <th>Adjusted Close</th>\n",
       "    </tr>\n",
       "  </thead>\n",
       "  <tbody>\n",
       "    <tr>\n",
       "      <th>0</th>\n",
       "      <td>01-06-1972</td>\n",
       "      <td>3.541667</td>\n",
       "      <td>0.000000</td>\n",
       "      <td>314400</td>\n",
       "      <td>3.578125</td>\n",
       "      <td>3.552083</td>\n",
       "      <td>0.825108</td>\n",
       "    </tr>\n",
       "    <tr>\n",
       "      <th>1</th>\n",
       "      <td>02-06-1972</td>\n",
       "      <td>3.541667</td>\n",
       "      <td>3.552083</td>\n",
       "      <td>1396800</td>\n",
       "      <td>3.562500</td>\n",
       "      <td>3.552083</td>\n",
       "      <td>0.825108</td>\n",
       "    </tr>\n",
       "    <tr>\n",
       "      <th>2</th>\n",
       "      <td>05-06-1972</td>\n",
       "      <td>3.531250</td>\n",
       "      <td>3.552083</td>\n",
       "      <td>372000</td>\n",
       "      <td>3.557292</td>\n",
       "      <td>3.536458</td>\n",
       "      <td>0.821478</td>\n",
       "    </tr>\n",
       "    <tr>\n",
       "      <th>3</th>\n",
       "      <td>06-06-1972</td>\n",
       "      <td>3.541667</td>\n",
       "      <td>3.541667</td>\n",
       "      <td>177600</td>\n",
       "      <td>3.562500</td>\n",
       "      <td>3.541667</td>\n",
       "      <td>0.822689</td>\n",
       "    </tr>\n",
       "    <tr>\n",
       "      <th>4</th>\n",
       "      <td>07-06-1972</td>\n",
       "      <td>3.479167</td>\n",
       "      <td>3.526042</td>\n",
       "      <td>379200</td>\n",
       "      <td>3.526042</td>\n",
       "      <td>3.479167</td>\n",
       "      <td>0.808170</td>\n",
       "    </tr>\n",
       "  </tbody>\n",
       "</table>\n",
       "</div>"
      ],
      "text/plain": [
       "         Date       Low      Open   Volume      High     Close  Adjusted Close\n",
       "0  01-06-1972  3.541667  0.000000   314400  3.578125  3.552083        0.825108\n",
       "1  02-06-1972  3.541667  3.552083  1396800  3.562500  3.552083        0.825108\n",
       "2  05-06-1972  3.531250  3.552083   372000  3.557292  3.536458        0.821478\n",
       "3  06-06-1972  3.541667  3.541667   177600  3.562500  3.541667        0.822689\n",
       "4  07-06-1972  3.479167  3.526042   379200  3.526042  3.479167        0.808170"
      ]
     },
     "execution_count": 3,
     "metadata": {},
     "output_type": "execute_result"
    }
   ],
   "source": [
    "df.head()"
   ]
  },
  {
   "cell_type": "code",
   "execution_count": 4,
   "id": "3df059b4",
   "metadata": {},
   "outputs": [
    {
     "name": "stdout",
     "output_type": "stream",
     "text": [
      "<class 'pandas.core.frame.DataFrame'>\n",
      "RangeIndex: 12710 entries, 0 to 12709\n",
      "Data columns (total 7 columns):\n",
      " #   Column          Non-Null Count  Dtype  \n",
      "---  ------          --------------  -----  \n",
      " 0   Date            12710 non-null  object \n",
      " 1   Low             12710 non-null  float64\n",
      " 2   Open            12710 non-null  float64\n",
      " 3   Volume          12710 non-null  int64  \n",
      " 4   High            12710 non-null  float64\n",
      " 5   Close           12710 non-null  float64\n",
      " 6   Adjusted Close  12710 non-null  float64\n",
      "dtypes: float64(5), int64(1), object(1)\n",
      "memory usage: 695.2+ KB\n"
     ]
    }
   ],
   "source": [
    "df.info()"
   ]
  },
  {
   "cell_type": "code",
   "execution_count": 5,
   "id": "fa2960c5",
   "metadata": {},
   "outputs": [
    {
     "data": {
      "text/html": [
       "<div>\n",
       "<style scoped>\n",
       "    .dataframe tbody tr th:only-of-type {\n",
       "        vertical-align: middle;\n",
       "    }\n",
       "\n",
       "    .dataframe tbody tr th {\n",
       "        vertical-align: top;\n",
       "    }\n",
       "\n",
       "    .dataframe thead th {\n",
       "        text-align: right;\n",
       "    }\n",
       "</style>\n",
       "<table border=\"1\" class=\"dataframe\">\n",
       "  <thead>\n",
       "    <tr style=\"text-align: right;\">\n",
       "      <th></th>\n",
       "      <th>Low</th>\n",
       "      <th>Open</th>\n",
       "      <th>Volume</th>\n",
       "      <th>High</th>\n",
       "      <th>Close</th>\n",
       "      <th>Adjusted Close</th>\n",
       "    </tr>\n",
       "  </thead>\n",
       "  <tbody>\n",
       "    <tr>\n",
       "      <th>count</th>\n",
       "      <td>12710.000000</td>\n",
       "      <td>12710.000000</td>\n",
       "      <td>1.271000e+04</td>\n",
       "      <td>12710.000000</td>\n",
       "      <td>12710.000000</td>\n",
       "      <td>12710.000000</td>\n",
       "    </tr>\n",
       "    <tr>\n",
       "      <th>mean</th>\n",
       "      <td>28.175559</td>\n",
       "      <td>28.473396</td>\n",
       "      <td>2.246376e+06</td>\n",
       "      <td>28.759109</td>\n",
       "      <td>28.474279</td>\n",
       "      <td>20.365279</td>\n",
       "    </tr>\n",
       "    <tr>\n",
       "      <th>std</th>\n",
       "      <td>24.475592</td>\n",
       "      <td>24.721799</td>\n",
       "      <td>1.841574e+06</td>\n",
       "      <td>24.950360</td>\n",
       "      <td>24.715370</td>\n",
       "      <td>23.036478</td>\n",
       "    </tr>\n",
       "    <tr>\n",
       "      <th>min</th>\n",
       "      <td>1.739583</td>\n",
       "      <td>0.000000</td>\n",
       "      <td>0.000000e+00</td>\n",
       "      <td>1.833333</td>\n",
       "      <td>1.812500</td>\n",
       "      <td>0.436024</td>\n",
       "    </tr>\n",
       "    <tr>\n",
       "      <th>25%</th>\n",
       "      <td>5.708333</td>\n",
       "      <td>5.750000</td>\n",
       "      <td>8.739000e+05</td>\n",
       "      <td>5.781250</td>\n",
       "      <td>5.750000</td>\n",
       "      <td>1.994587</td>\n",
       "    </tr>\n",
       "    <tr>\n",
       "      <th>50%</th>\n",
       "      <td>23.767500</td>\n",
       "      <td>24.217500</td>\n",
       "      <td>1.861900e+06</td>\n",
       "      <td>24.530000</td>\n",
       "      <td>24.235000</td>\n",
       "      <td>12.853905</td>\n",
       "    </tr>\n",
       "    <tr>\n",
       "      <th>75%</th>\n",
       "      <td>47.157500</td>\n",
       "      <td>47.794999</td>\n",
       "      <td>3.128100e+06</td>\n",
       "      <td>48.279999</td>\n",
       "      <td>47.830002</td>\n",
       "      <td>33.682445</td>\n",
       "    </tr>\n",
       "    <tr>\n",
       "      <th>max</th>\n",
       "      <td>104.900002</td>\n",
       "      <td>105.809998</td>\n",
       "      <td>2.482280e+07</td>\n",
       "      <td>105.989998</td>\n",
       "      <td>105.699997</td>\n",
       "      <td>103.332047</td>\n",
       "    </tr>\n",
       "  </tbody>\n",
       "</table>\n",
       "</div>"
      ],
      "text/plain": [
       "                Low          Open        Volume          High         Close  \\\n",
       "count  12710.000000  12710.000000  1.271000e+04  12710.000000  12710.000000   \n",
       "mean      28.175559     28.473396  2.246376e+06     28.759109     28.474279   \n",
       "std       24.475592     24.721799  1.841574e+06     24.950360     24.715370   \n",
       "min        1.739583      0.000000  0.000000e+00      1.833333      1.812500   \n",
       "25%        5.708333      5.750000  8.739000e+05      5.781250      5.750000   \n",
       "50%       23.767500     24.217500  1.861900e+06     24.530000     24.235000   \n",
       "75%       47.157500     47.794999  3.128100e+06     48.279999     47.830002   \n",
       "max      104.900002    105.809998  2.482280e+07    105.989998    105.699997   \n",
       "\n",
       "       Adjusted Close  \n",
       "count    12710.000000  \n",
       "mean        20.365279  \n",
       "std         23.036478  \n",
       "min          0.436024  \n",
       "25%          1.994587  \n",
       "50%         12.853905  \n",
       "75%         33.682445  \n",
       "max        103.332047  "
      ]
     },
     "execution_count": 5,
     "metadata": {},
     "output_type": "execute_result"
    }
   ],
   "source": [
    "df.describe()"
   ]
  },
  {
   "cell_type": "markdown",
   "id": "de28a2a4",
   "metadata": {},
   "source": [
    "### Plotting the Stock Data"
   ]
  },
  {
   "cell_type": "markdown",
   "id": "7a8d14d8",
   "metadata": {},
   "source": [
    "#### Lets plot the Closing Price of Stock"
   ]
  },
  {
   "cell_type": "code",
   "execution_count": 6,
   "id": "544eef26",
   "metadata": {},
   "outputs": [
    {
     "data": {
      "text/plain": [
       "Text(0.5, 1.0, 'EMR Stock Close Price Plot')"
      ]
     },
     "execution_count": 6,
     "metadata": {},
     "output_type": "execute_result"
    },
    {
     "data": {
      "image/png": "[encoded data removed]",
      "text/plain": [
       "<Figure size 432x288 with 1 Axes>"
      ]
     },
     "metadata": {
      "needs_background": "light"
     },
     "output_type": "display_data"
    }
   ],
   "source": [
    "plt.plot(df['Close'])\n",
    "plt.title('EMR Stock Close Price Plot')"
   ]
  },
  {
   "cell_type": "markdown",
   "id": "f1ced756",
   "metadata": {},
   "source": [
    "#### Lets plot the Opening Price of Stock"
   ]
  },
  {
   "cell_type": "code",
   "execution_count": 7,
   "id": "81666f79",
   "metadata": {},
   "outputs": [
    {
     "data": {
      "text/plain": [
       "Text(0.5, 1.0, 'EMR Stock Open Price Plot')"
      ]
     },
     "execution_count": 7,
     "metadata": {},
     "output_type": "execute_result"
    },
    {
     "data": {
      "image/png": "[encoded data removed]",
      "text/plain": [
       "<Figure size 432x288 with 1 Axes>"
      ]
     },
     "metadata": {
      "needs_background": "light"
     },
     "output_type": "display_data"
    }
   ],
   "source": [
    "plt.plot(df['Open'])\n",
    "plt.title('EMR Stock Open Price Plot')"
   ]
  },
  {
   "cell_type": "markdown",
   "id": "eba3d975",
   "metadata": {},
   "source": [
    "### Scaling the data as LSTM's are sensitive to numeric values, this is a good paractice to normalise values before applying any ML algorithm, if you have data across uneven ranges over a lot of parameters"
   ]
  },
  {
   "cell_type": "code",
   "execution_count": 8,
   "id": "baf44cb6",
   "metadata": {},
   "outputs": [],
   "source": [
    "from sklearn.preprocessing import MinMaxScaler"
   ]
  },
  {
   "cell_type": "code",
   "execution_count": 9,
   "id": "fe98e9c7",
   "metadata": {},
   "outputs": [],
   "source": [
    "df_1 = df['Close']\n",
    "df_2 = df['Open']"
   ]
  },
  {
   "cell_type": "code",
   "execution_count": 10,
   "id": "fe406111",
   "metadata": {},
   "outputs": [],
   "source": [
    "scaler = MinMaxScaler(feature_range=(0,1))\n",
    "df_1 = scaler.fit_transform(np.array(df_1).reshape(-1,1))\n",
    "df_2 = scaler.fit_transform(np.array(df_2).reshape(-1,1))"
   ]
  },
  {
   "cell_type": "code",
   "execution_count": 11,
   "id": "ac73066e",
   "metadata": {},
   "outputs": [
    {
     "data": {
      "text/plain": [
       "(array([[0.01674487],\n",
       "        [0.01674487],\n",
       "        [0.01659447],\n",
       "        ...,\n",
       "        [0.75406092],\n",
       "        [0.78303459],\n",
       "        [0.78943568]]),\n",
       " array([[0.        ],\n",
       "        [0.03357039],\n",
       "        [0.03357039],\n",
       "        ...,\n",
       "        [0.76788585],\n",
       "        [0.7608922 ],\n",
       "        [0.79056803]]))"
      ]
     },
     "execution_count": 11,
     "metadata": {},
     "output_type": "execute_result"
    }
   ],
   "source": [
    "df_1, df_2"
   ]
  },
  {
   "cell_type": "code",
   "execution_count": 12,
   "id": "0350867d",
   "metadata": {},
   "outputs": [
    {
     "data": {
      "text/plain": [
       "((12710, 1), (12710, 1))"
      ]
     },
     "execution_count": 12,
     "metadata": {},
     "output_type": "execute_result"
    }
   ],
   "source": [
    "df_1.shape, df_2.shape"
   ]
  },
  {
   "cell_type": "markdown",
   "id": "05559985",
   "metadata": {},
   "source": [
    "### Handling Sequential Data for Train Test Split\n",
    "Now Since we are working on time series data its always we have to split sequentially for train_test_split"
   ]
  },
  {
   "cell_type": "code",
   "execution_count": 13,
   "id": "ec825504",
   "metadata": {},
   "outputs": [],
   "source": [
    "#Split is 70% train and 30% test for the Close Price Predection\n",
    "cp_train_size=int(len(df_1)*0.70)  \n",
    "cp_test_size=len(df_1)-cp_train_size"
   ]
  },
  {
   "cell_type": "code",
   "execution_count": 14,
   "id": "d2efb02e",
   "metadata": {},
   "outputs": [],
   "source": [
    "#Split is 70% train and 30% test for the Open Price Predection\n",
    "op_train_size=int(len(df_2)*0.70)  \n",
    "op_test_size=len(df_2)-op_train_size"
   ]
  },
  {
   "cell_type": "code",
   "execution_count": 15,
   "id": "4351818b",
   "metadata": {},
   "outputs": [],
   "source": [
    "cp_train_data, cp_test_data=df_1[0:cp_train_size,:], df_1[cp_train_size:len(df_1),:1]\n",
    "op_train_data, op_test_data=df_2[0:op_train_size,:], df_2[op_train_size:len(df_2),:1]"
   ]
  },
  {
   "cell_type": "code",
   "execution_count": 16,
   "id": "62fb0e4f",
   "metadata": {},
   "outputs": [
    {
     "data": {
      "text/plain": [
       "((8897, 1), (3813, 1), (8897, 1), (3813, 1))"
      ]
     },
     "execution_count": 16,
     "metadata": {},
     "output_type": "execute_result"
    }
   ],
   "source": [
    "cp_train_data.shape, cp_test_data.shape, op_train_data.shape, op_test_data.shape"
   ]
  },
  {
   "cell_type": "markdown",
   "id": "8be0f938",
   "metadata": {},
   "source": [
    "### Now lets create the dataset\n",
    " Reshape into X=t, t+1, t+2,...t+99 and Y=t+100"
   ]
  },
  {
   "cell_type": "code",
   "execution_count": 17,
   "id": "049790e6",
   "metadata": {},
   "outputs": [],
   "source": [
    "def create_dataset(dataset, time_stamp=1):\n",
    "    data_X, data_Y = [],[]\n",
    "    for i in range(len(dataset)-time_stamp-1):\n",
    "        #print(i)\n",
    "        a = dataset[i:(i+time_stamp),0]\n",
    "        #print(a)\n",
    "        data_X.append(a)\n",
    "        b = dataset[i+time_stamp,0]\n",
    "        #print(b)\n",
    "        data_Y.append(b)\n",
    "    return np.array(data_X), np.array(data_Y)"
   ]
  },
  {
   "cell_type": "code",
   "execution_count": 18,
   "id": "f0b60e1f",
   "metadata": {},
   "outputs": [],
   "source": [
    "# Reshape into X=t, t+1, t+2,...,t+99 and Y=t+100\n",
    "time_step = 100\n",
    "cp_X_train, cp_Y_train = create_dataset(cp_train_data, time_step)\n",
    "cp_X_test, cp_Y_test = create_dataset(cp_test_data, time_step)"
   ]
  },
  {
   "cell_type": "code",
   "execution_count": 19,
   "id": "f7c36992",
   "metadata": {},
   "outputs": [
    {
     "name": "stdout",
     "output_type": "stream",
     "text": [
      "[[0.01674487 0.01674487 0.01659447 ... 0.01819877 0.01814864 0.0182489 ]\n",
      " [0.01674487 0.01659447 0.01664461 ... 0.01814864 0.0182489  0.0180985 ]\n",
      " [0.01659447 0.01664461 0.016043   ... 0.0182489  0.0180985  0.01814864]\n",
      " ...\n",
      " [0.39463364 0.39376732 0.39280472 ... 0.42755385 0.44247383 0.43920106]\n",
      " [0.39376732 0.39280472 0.38539285 ... 0.44247383 0.43920106 0.43400316]\n",
      " [0.39280472 0.38539285 0.3926122  ... 0.43920106 0.43400316 0.44699797]]\n"
     ]
    }
   ],
   "source": [
    "print(cp_X_train)"
   ]
  },
  {
   "cell_type": "code",
   "execution_count": 20,
   "id": "ba4560a0",
   "metadata": {},
   "outputs": [
    {
     "name": "stdout",
     "output_type": "stream",
     "text": [
      "[[0.45970402 0.45267719 0.4508483  ... 0.46894477 0.47568284 0.47847433]\n",
      " [0.45267719 0.4508483  0.43862353 ... 0.47568284 0.47847433 0.47934065]\n",
      " [0.4508483  0.43862353 0.4412225  ... 0.47847433 0.47934065 0.48088078]\n",
      " ...\n",
      " [0.81614728 0.83347375 0.83597648 ... 0.73548313 0.75329084 0.7680183 ]\n",
      " [0.83347375 0.83597648 0.83511012 ... 0.75329084 0.7680183  0.76416796]\n",
      " [0.83597648 0.83511012 0.84771989 ... 0.7680183  0.76416796 0.75406092]]\n"
     ]
    }
   ],
   "source": [
    "print(cp_X_test)"
   ]
  },
  {
   "cell_type": "code",
   "execution_count": 21,
   "id": "7d97b6e0",
   "metadata": {},
   "outputs": [],
   "source": [
    "time_step = 100\n",
    "op_X_train, op_Y_train = create_dataset(op_train_data, time_step)\n",
    "op_X_test, op_Y_test = create_dataset(op_test_data, time_step)"
   ]
  },
  {
   "cell_type": "code",
   "execution_count": 22,
   "id": "65fd923d",
   "metadata": {},
   "outputs": [
    {
     "name": "stdout",
     "output_type": "stream",
     "text": [
      "(3712, 100) (8796, 100) (3712,) (8796,)\n"
     ]
    }
   ],
   "source": [
    "print(op_X_test.shape, op_X_train.shape, op_Y_test.shape, op_Y_train.shape)"
   ]
  },
  {
   "cell_type": "code",
   "execution_count": 23,
   "id": "27ef2e42",
   "metadata": {},
   "outputs": [
    {
     "name": "stdout",
     "output_type": "stream",
     "text": [
      "(3712, 100) (8796, 100) (3712,) (8796,)\n"
     ]
    }
   ],
   "source": [
    "print(cp_X_test.shape, cp_X_train.shape, cp_Y_test.shape, cp_Y_train.shape)"
   ]
  },
  {
   "cell_type": "markdown",
   "id": "e0d9da3d",
   "metadata": {},
   "source": [
    "### Now we need to reshape the inputs to a 3D array of [samples, time steps, features] for the LSTM"
   ]
  },
  {
   "cell_type": "code",
   "execution_count": 24,
   "id": "09f340cc",
   "metadata": {},
   "outputs": [],
   "source": [
    "cp_X_train = cp_X_train.reshape(cp_X_train.shape[0], cp_X_train.shape[1],1)\n",
    "cp_X_test = cp_X_test.reshape(cp_X_test.shape[0], cp_X_test.shape[1],1)\n",
    "op_X_train = op_X_train.reshape(op_X_train.shape[0], op_X_train.shape[1],1)\n",
    "op_X_test = op_X_test.reshape(op_X_test.shape[0], op_X_test.shape[1],1)"
   ]
  },
  {
   "cell_type": "code",
   "execution_count": 25,
   "id": "a214a159",
   "metadata": {},
   "outputs": [
    {
     "name": "stdout",
     "output_type": "stream",
     "text": [
      "(3712, 100, 1) (8796, 100, 1) (3712,) (8796,)\n"
     ]
    }
   ],
   "source": [
    "print(op_X_test.shape, op_X_train.shape, op_Y_test.shape, op_Y_train.shape)"
   ]
  },
  {
   "cell_type": "code",
   "execution_count": 26,
   "id": "5f72cfa2",
   "metadata": {},
   "outputs": [
    {
     "name": "stdout",
     "output_type": "stream",
     "text": [
      "(3712, 100, 1) (8796, 100, 1) (3712,) (8796,)\n"
     ]
    }
   ],
   "source": [
    "print(cp_X_test.shape, cp_X_train.shape, cp_Y_test.shape, cp_Y_train.shape)"
   ]
  },
  {
   "cell_type": "markdown",
   "id": "1546f355",
   "metadata": {},
   "source": [
    "### Now lets create the LSTM Model using Tensorflow"
   ]
  },
  {
   "cell_type": "code",
   "execution_count": 27,
   "id": "26857566",
   "metadata": {},
   "outputs": [],
   "source": [
    "#Lets create Stacked LSTM's model, by importing libraries\n",
    "import tensorflow\n",
    "from tensorflow.keras.models import Sequential\n",
    "from tensorflow.keras.layers import Dense\n",
    "from tensorflow.keras.layers import LSTM"
   ]
  },
  {
   "cell_type": "code",
   "execution_count": 28,
   "id": "3d96239b",
   "metadata": {},
   "outputs": [],
   "source": [
    "model = Sequential()\n",
    "model.add(LSTM(50, return_sequences=True, input_shape=(100,1))) #Input Layer 1, 50 Neurons with 100 Time Steps\n",
    "model.add(LSTM(50, return_sequences=True)) #Layer 2 with 50 neurons\n",
    "model.add(LSTM(50, return_sequences=True)) #Layer 3 with 50 neurons\n",
    "model.add(LSTM(50)) #Another Layer with 50 Neurons\n",
    "model.add(Dense(1)) #Final Layer \n",
    "model.compile(loss=\"mean_squared_error\", optimizer='adam')"
   ]
  },
  {
   "cell_type": "code",
   "execution_count": 29,
   "id": "e97b363a",
   "metadata": {},
   "outputs": [
    {
     "name": "stdout",
     "output_type": "stream",
     "text": [
      "Model: \"sequential\"\n",
      "_________________________________________________________________\n",
      "Layer (type)                 Output Shape              Param #   \n",
      "=================================================================\n",
      "lstm (LSTM)                  (None, 100, 50)           10400     \n",
      "_________________________________________________________________\n",
      "lstm_1 (LSTM)                (None, 100, 50)           20200     \n",
      "_________________________________________________________________\n",
      "lstm_2 (LSTM)                (None, 100, 50)           20200     \n",
      "_________________________________________________________________\n",
      "lstm_3 (LSTM)                (None, 50)                20200     \n",
      "_________________________________________________________________\n",
      "dense (Dense)                (None, 1)                 51        \n",
      "=================================================================\n",
      "Total params: 71,051\n",
      "Trainable params: 71,051\n",
      "Non-trainable params: 0\n",
      "_________________________________________________________________\n"
     ]
    }
   ],
   "source": [
    "model.summary()"
   ]
  },
  {
   "cell_type": "markdown",
   "id": "3f7760d6",
   "metadata": {},
   "source": [
    "### Model Training for Stock 'Close' Price Prediction"
   ]
  },
  {
   "cell_type": "code",
   "execution_count": 30,
   "id": "848627b7",
   "metadata": {},
   "outputs": [
    {
     "name": "stdout",
     "output_type": "stream",
     "text": [
      "Epoch 1/5\n",
      "138/138 [==============================] - 12s 39ms/step - loss: 9.4149e-04 - val_loss: 0.0027\n",
      "Epoch 2/5\n",
      "138/138 [==============================] - 4s 32ms/step - loss: 7.6893e-05 - val_loss: 0.0017\n",
      "Epoch 3/5\n",
      "138/138 [==============================] - 4s 32ms/step - loss: 7.4356e-05 - val_loss: 0.0019\n",
      "Epoch 4/5\n",
      "138/138 [==============================] - 5s 33ms/step - loss: 6.8597e-05 - val_loss: 0.0018\n",
      "Epoch 5/5\n",
      "138/138 [==============================] - 5s 34ms/step - loss: 7.7307e-05 - val_loss: 0.0012\n"
     ]
    },
    {
     "data": {
      "text/plain": [
       "<keras.callbacks.History at 0x1b990a75880>"
      ]
     },
     "execution_count": 30,
     "metadata": {},
     "output_type": "execute_result"
    }
   ],
   "source": [
    "model.fit(cp_X_train, cp_Y_train, validation_data=(cp_X_test, cp_Y_test), epochs=5, batch_size=64, verbose=1)"
   ]
  },
  {
   "cell_type": "code",
   "execution_count": 34,
   "id": "23175270",
   "metadata": {},
   "outputs": [
    {
     "name": "stderr",
     "output_type": "stream",
     "text": [
      "WARNING:absl:Found untraced functions such as lstm_cell_layer_call_fn, lstm_cell_layer_call_and_return_conditional_losses, lstm_cell_1_layer_call_fn, lstm_cell_1_layer_call_and_return_conditional_losses, lstm_cell_2_layer_call_fn while saving (showing 5 of 20). These functions will not be directly callable after loading.\n"
     ]
    },
    {
     "name": "stdout",
     "output_type": "stream",
     "text": [
      "INFO:tensorflow:Assets written to: RNN Model\\assets\n"
     ]
    },
    {
     "name": "stderr",
     "output_type": "stream",
     "text": [
      "INFO:tensorflow:Assets written to: RNN Model\\assets\n"
     ]
    }
   ],
   "source": [
    "model.save('RNN Model')"
   ]
  },
  {
   "cell_type": "markdown",
   "id": "862f83be",
   "metadata": {},
   "source": [
    "### Lets Visualize our Model"
   ]
  },
  {
   "cell_type": "code",
   "execution_count": 31,
   "id": "e5eb6b32",
   "metadata": {},
   "outputs": [
    {
     "data": {
      "text/plain": [
       "\"import ann_visualizer\\nimport graphviz\\nfrom ann_visualizer.visualize import ann_viz\\nann_viz(model, view=True, title='RNN')\""
      ]
     },
     "execution_count": 31,
     "metadata": {},
     "output_type": "execute_result"
    }
   ],
   "source": [
    "'''import ann_visualizer\n",
    "import graphviz\n",
    "from ann_visualizer.visualize import ann_viz\n",
    "ann_viz(model, view=True, title='RNN')'''"
   ]
  },
  {
   "cell_type": "markdown",
   "id": "00aada59",
   "metadata": {},
   "source": [
    "### Load the Saved Model"
   ]
  },
  {
   "cell_type": "code",
   "execution_count": 28,
   "id": "54e1c763",
   "metadata": {},
   "outputs": [],
   "source": [
    "loaded_model = tensorflow.keras.models.load_model('RNN Model')"
   ]
  },
  {
   "cell_type": "markdown",
   "id": "330f85d6",
   "metadata": {},
   "source": [
    "### Making Predictions"
   ]
  },
  {
   "cell_type": "code",
   "execution_count": 42,
   "id": "ec38b2b6",
   "metadata": {},
   "outputs": [],
   "source": [
    "cp_X_test_predictions = loaded_model.predict(cp_X_test)\n",
    "cp_X_train_predictions = loaded_model.predict(cp_X_train)"
   ]
  },
  {
   "cell_type": "code",
   "execution_count": 43,
   "id": "8927e362",
   "metadata": {},
   "outputs": [
    {
     "data": {
      "text/plain": [
       "array([[0.48089194],\n",
       "       [0.4773127 ],\n",
       "       [0.47429565],\n",
       "       ...,\n",
       "       [0.69069207],\n",
       "       [0.6932552 ],\n",
       "       [0.696044  ]], dtype=float32)"
      ]
     },
     "execution_count": 43,
     "metadata": {},
     "output_type": "execute_result"
    }
   ],
   "source": [
    "cp_X_test_predictions"
   ]
  },
  {
   "cell_type": "code",
   "execution_count": 44,
   "id": "b5f75732",
   "metadata": {},
   "outputs": [],
   "source": [
    "cp_X_test_predictions_transformed = scaler.inverse_transform(cp_X_test_predictions)\n",
    "cp_X_train_predictions_transformed = scaler.inverse_transform(cp_X_train_predictions)"
   ]
  },
  {
   "cell_type": "code",
   "execution_count": 32,
   "id": "7c53a451",
   "metadata": {},
   "outputs": [
    {
     "data": {
      "text/plain": [
       "array([[50.883175],\n",
       "       [50.504456],\n",
       "       [50.185223],\n",
       "       ...,\n",
       "       [73.08212 ],\n",
       "       [73.35333 ],\n",
       "       [73.648415]], dtype=float32)"
      ]
     },
     "execution_count": 32,
     "metadata": {},
     "output_type": "execute_result"
    }
   ],
   "source": [
    "cp_X_test_predictions_transformed"
   ]
  },
  {
   "cell_type": "markdown",
   "id": "687bd8d9",
   "metadata": {},
   "source": [
    "### Calculating Metrics"
   ]
  },
  {
   "cell_type": "code",
   "execution_count": 33,
   "id": "e42c3ade",
   "metadata": {},
   "outputs": [],
   "source": [
    "import math"
   ]
  },
  {
   "cell_type": "code",
   "execution_count": 34,
   "id": "fd5b394a",
   "metadata": {},
   "outputs": [],
   "source": [
    "from sklearn.metrics import mean_absolute_error, mean_squared_error"
   ]
  },
  {
   "cell_type": "code",
   "execution_count": 35,
   "id": "a84cd0ab",
   "metadata": {},
   "outputs": [
    {
     "data": {
      "text/plain": [
       "57.4505174588375"
      ]
     },
     "execution_count": 35,
     "metadata": {},
     "output_type": "execute_result"
    }
   ],
   "source": [
    "mean_absolute_error(cp_Y_test, cp_X_test_predictions_transformed)"
   ]
  },
  {
   "cell_type": "code",
   "execution_count": 37,
   "id": "b09c944d",
   "metadata": {},
   "outputs": [
    {
     "data": {
      "text/plain": [
       "59.070351821854246"
      ]
     },
     "execution_count": 37,
     "metadata": {},
     "output_type": "execute_result"
    }
   ],
   "source": [
    "math.sqrt(mean_squared_error(cp_Y_test, cp_X_test_predictions_transformed))"
   ]
  },
  {
   "cell_type": "markdown",
   "id": "4bc27220",
   "metadata": {},
   "source": [
    "### Now lets Plot the Predictions"
   ]
  },
  {
   "cell_type": "code",
   "execution_count": 46,
   "id": "bba2c60d",
   "metadata": {},
   "outputs": [
    {
     "data": {
      "image/png": "[encoded data removed]",
      "text/plain": [
       "<Figure size 432x288 with 1 Axes>"
      ]
     },
     "metadata": {
      "needs_background": "light"
     },
     "output_type": "display_data"
    }
   ],
   "source": [
    "### Plotting \n",
    "# shift train predictions for plotting\n",
    "look_back=100\n",
    "\n",
    "trainPredictPlot = np.empty_like(df_1)\n",
    "trainPredictPlot[:, :] = np.nan\n",
    "trainPredictPlot[look_back:len(cp_X_train_predictions_transformed)+look_back, :] = cp_X_train_predictions_transformed\n",
    "\n",
    "testPredictPlot = np.empty_like(df_1)\n",
    "testPredictPlot[:, :] = np.nan\n",
    "testPredictPlot[len(cp_X_train_predictions_transformed)+(look_back*2)+1:len(df_1)-1, :] = cp_X_test_predictions_transformed\n",
    "\n",
    "plt.plot(scaler.inverse_transform(df_1))\n",
    "plt.plot(trainPredictPlot)\n",
    "plt.plot(testPredictPlot)\n",
    "plt.show()"
   ]
  },
  {
   "cell_type": "code",
   "execution_count": null,
   "id": "85f577de",
   "metadata": {},
   "outputs": [],
   "source": []
  }
 ],
 "metadata": {
  "kernelspec": {
   "display_name": "Python 3",
   "language": "python",
   "name": "python3"
  },
  "language_info": {
   "codemirror_mode": {
    "name": "ipython",
    "version": 3
   },
   "file_extension": ".py",
   "mimetype": "text/x-python",
   "name": "python",
   "nbconvert_exporter": "python",
   "pygments_lexer": "ipython3",
   "version": "3.8.8"
  }
 },
 "nbformat": 4,
 "nbformat_minor": 5
}
